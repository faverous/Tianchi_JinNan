{
 "cells": [
  {
   "cell_type": "markdown",
   "metadata": {},
   "source": [
    "# 津南数字制造算法挑战赛"
   ]
  },
  {
   "cell_type": "code",
   "execution_count": 1,
   "metadata": {},
   "outputs": [],
   "source": [
    "import pandas as pd\n",
    "import matplotlib.pyplot as plt\n",
    "import seaborn as sns\n",
    "import numpy as np\n",
    "from scipy.stats import norm\n",
    "from sklearn.preprocessing import StandardScaler\n",
    "from scipy import stats\n",
    "import warnings\n",
    "warnings.filterwarnings('ignore')\n",
    "%matplotlib inline"
   ]
  },
  {
   "cell_type": "code",
   "execution_count": 2,
   "metadata": {},
   "outputs": [],
   "source": [
    "df_train = pd.read_csv('../data/train_data_time.csv')\n",
    "df_testA = pd.read_csv('../data/jinnan_round1_testA_20181227.csv')"
   ]
  },
  {
   "cell_type": "code",
   "execution_count": 3,
   "metadata": {},
   "outputs": [
    {
     "data": {
      "text/plain": [
       "Index(['样本id', 'A1', 'A2', 'A3', 'A4', 'A5', 'A6', 'A7', 'A8', 'A9', 'A10',\n",
       "       'A11', 'A12', 'A13', 'A14', 'A15', 'A16', 'A17', 'A18', 'A19', 'A20',\n",
       "       'A21', 'A22', 'A23', 'A24', 'A25', 'A26', 'A27', 'A28', 'B1', 'B2',\n",
       "       'B3', 'B4', 'B5', 'B6', 'B7', 'B8', 'B9', 'B10', 'B11', 'B12', 'B13',\n",
       "       'B14', '收率'],\n",
       "      dtype='object')"
      ]
     },
     "execution_count": 3,
     "metadata": {},
     "output_type": "execute_result"
    }
   ],
   "source": [
    "df_train.columns"
   ]
  },
  {
   "cell_type": "code",
   "execution_count": 5,
   "metadata": {},
   "outputs": [
    {
     "data": {
      "text/plain": [
       "Index(['样本id', 'A1', 'A2', 'A3', 'A4', 'A5', 'A6', 'A7', 'A8', 'A9', 'A10',\n",
       "       'A11', 'A12', 'A13', 'A14', 'A15', 'A16', 'A17', 'A18', 'A19', 'A20',\n",
       "       'A21', 'A22', 'A23', 'A24', 'A25', 'A26', 'A27', 'A28', 'B1', 'B2',\n",
       "       'B3', 'B4', 'B5', 'B6', 'B7', 'B8', 'B9', 'B10', 'B11', 'B12', 'B13',\n",
       "       'B14'],\n",
       "      dtype='object')"
      ]
     },
     "execution_count": 5,
     "metadata": {},
     "output_type": "execute_result"
    }
   ],
   "source": [
    "df_testA.columns"
   ]
  },
  {
   "cell_type": "markdown",
   "metadata": {},
   "source": [
    "## 特征基本信息"
   ]
  },
  {
   "cell_type": "code",
   "execution_count": 29,
   "metadata": {},
   "outputs": [
    {
     "data": {
      "text/plain": [
       "count    1396.000000\n",
       "mean      298.853868\n",
       "std        10.130552\n",
       "min       200.000000\n",
       "25%       300.000000\n",
       "50%       300.000000\n",
       "75%       300.000000\n",
       "max       300.000000\n",
       "Name: A1, dtype: float64"
      ]
     },
     "execution_count": 29,
     "metadata": {},
     "output_type": "execute_result"
    }
   ],
   "source": [
    "## 训练集\n",
    "df_train['A1'].describe()"
   ]
  },
  {
   "cell_type": "code",
   "execution_count": 77,
   "metadata": {},
   "outputs": [
    {
     "data": {
      "text/plain": [
       "{300: 1377, 200: 13, 250: 6}"
      ]
     },
     "execution_count": 77,
     "metadata": {},
     "output_type": "execute_result"
    }
   ],
   "source": [
    "dict(df_train['A1'].value_counts())"
   ]
  },
  {
   "cell_type": "code",
   "execution_count": 30,
   "metadata": {},
   "outputs": [
    {
     "data": {
      "text/plain": [
       "count     42.0\n",
       "mean     125.0\n",
       "std        0.0\n",
       "min      125.0\n",
       "25%      125.0\n",
       "50%      125.0\n",
       "75%      125.0\n",
       "max      125.0\n",
       "Name: A2, dtype: float64"
      ]
     },
     "execution_count": 30,
     "metadata": {},
     "output_type": "execute_result"
    }
   ],
   "source": [
    "df_train['A2'].describe()"
   ]
  },
  {
   "cell_type": "code",
   "execution_count": 78,
   "metadata": {},
   "outputs": [
    {
     "data": {
      "text/plain": [
       "{125.0: 42}"
      ]
     },
     "execution_count": 78,
     "metadata": {},
     "output_type": "execute_result"
    }
   ],
   "source": [
    "dict(df_train['A2'].value_counts())"
   ]
  },
  {
   "cell_type": "code",
   "execution_count": 31,
   "metadata": {},
   "outputs": [
    {
     "data": {
      "text/plain": [
       "count    1354.000000\n",
       "mean      403.515510\n",
       "std        13.348093\n",
       "min       270.000000\n",
       "25%       405.000000\n",
       "50%       405.000000\n",
       "75%       405.000000\n",
       "max       405.000000\n",
       "Name: A3, dtype: float64"
      ]
     },
     "execution_count": 31,
     "metadata": {},
     "output_type": "execute_result"
    }
   ],
   "source": [
    "df_train['A3'].describe()"
   ]
  },
  {
   "cell_type": "code",
   "execution_count": 79,
   "metadata": {},
   "outputs": [
    {
     "data": {
      "text/plain": [
       "{405.0: 1336, 270.0: 12, 340.0: 6}"
      ]
     },
     "execution_count": 79,
     "metadata": {},
     "output_type": "execute_result"
    }
   ],
   "source": [
    "dict(df_train['A3'].value_counts())"
   ]
  },
  {
   "cell_type": "code",
   "execution_count": 32,
   "metadata": {},
   "outputs": [
    {
     "data": {
      "text/plain": [
       "count    1396.000000\n",
       "mean      705.974212\n",
       "std        53.214754\n",
       "min       470.000000\n",
       "25%       700.000000\n",
       "50%       700.000000\n",
       "75%       700.000000\n",
       "max       980.000000\n",
       "Name: A4, dtype: float64"
      ]
     },
     "execution_count": 32,
     "metadata": {},
     "output_type": "execute_result"
    }
   ],
   "source": [
    "df_train['A4'].describe()"
   ]
  },
  {
   "cell_type": "code",
   "execution_count": 80,
   "metadata": {},
   "outputs": [
    {
     "data": {
      "text/plain": [
       "{700: 1336, 980: 42, 470: 12, 590: 6}"
      ]
     },
     "execution_count": 80,
     "metadata": {},
     "output_type": "execute_result"
    }
   ],
   "source": [
    "dict(df_train['A4'].value_counts())"
   ]
  },
  {
   "cell_type": "code",
   "execution_count": 33,
   "metadata": {},
   "outputs": [
    {
     "data": {
      "text/plain": [
       "count        1396\n",
       "unique         67\n",
       "top       6:00:00\n",
       "freq          269\n",
       "Name: A5, dtype: object"
      ]
     },
     "execution_count": 33,
     "metadata": {},
     "output_type": "execute_result"
    }
   ],
   "source": [
    "df_train['A5'].describe()"
   ]
  },
  {
   "cell_type": "code",
   "execution_count": 81,
   "metadata": {},
   "outputs": [
    {
     "data": {
      "text/plain": [
       "{'6:00:00': 269,\n",
       " '14:00:00': 260,\n",
       " '22:00:00': 169,\n",
       " '21:00:00': 89,\n",
       " '8:00:00': 39,\n",
       " '1:00:00': 38,\n",
       " '18:00:00': 37,\n",
       " '2:00:00': 24,\n",
       " '17:00:00': 23,\n",
       " '12:30:00': 22,\n",
       " '11:00:00': 22,\n",
       " '15:00:00': 22,\n",
       " '12:00:00': 21,\n",
       " '7:00:00': 19,\n",
       " '4:00:00': 17,\n",
       " '23:00:00': 16,\n",
       " '5:00:00': 16,\n",
       " '21:30:00': 16,\n",
       " '9:00:00': 15,\n",
       " '10:00:00': 15,\n",
       " '0:00:00': 15,\n",
       " '19:00:00': 14,\n",
       " '6:30:00': 14,\n",
       " '13:00:00': 14,\n",
       " '3:30:00': 13,\n",
       " '16:00:00': 13,\n",
       " '15:30:00': 13,\n",
       " '20:00:00': 12,\n",
       " '3:00:00': 11,\n",
       " '17:30:00': 9,\n",
       " '10:30:00': 9,\n",
       " '7:30:00': 8,\n",
       " '14:30:00': 8,\n",
       " '2:30:00': 7,\n",
       " '16:30:00': 7,\n",
       " '13:30:00': 7,\n",
       " '22:30:00': 6,\n",
       " '8:30:00': 6,\n",
       " '1:30:00': 6,\n",
       " '4:30:00': 6,\n",
       " '20:30:00': 6,\n",
       " '5:30:00': 5,\n",
       " '19:30:00': 4,\n",
       " '11:30:00': 3,\n",
       " '18:30:00': 3,\n",
       " '9:30:00': 3,\n",
       " '15:40:00': 2,\n",
       " '1900/1/21 0:00': 2,\n",
       " '23:30:00': 2,\n",
       " '13:50:00': 2,\n",
       " '7:45:00': 1,\n",
       " '9:40:00': 1,\n",
       " '11:20:00': 1,\n",
       " '11:45:00': 1,\n",
       " '3:45:00': 1,\n",
       " '1900/1/29 0:00': 1,\n",
       " '15:10:00': 1,\n",
       " '10:40:00': 1,\n",
       " '10:45:00': 1,\n",
       " '8:15:00': 1,\n",
       " '6:50:00': 1,\n",
       " '16:40:00': 1,\n",
       " '2:45:00': 1,\n",
       " '0:30:00': 1,\n",
       " '8:45:00': 1,\n",
       " '13:10:00': 1,\n",
       " '14:50:00': 1}"
      ]
     },
     "execution_count": 81,
     "metadata": {},
     "output_type": "execute_result"
    }
   ],
   "source": [
    "dict(df_train['A5'].value_counts())"
   ]
  },
  {
   "cell_type": "code",
   "execution_count": 34,
   "metadata": {},
   "outputs": [
    {
     "data": {
      "text/plain": [
       "count    1396.000000\n",
       "mean       28.287751\n",
       "std         6.742765\n",
       "min        17.000000\n",
       "25%        24.000000\n",
       "50%        29.000000\n",
       "75%        30.000000\n",
       "max        97.000000\n",
       "Name: A6, dtype: float64"
      ]
     },
     "execution_count": 34,
     "metadata": {},
     "output_type": "execute_result"
    }
   ],
   "source": [
    "df_train['A6'].describe()"
   ]
  },
  {
   "cell_type": "code",
   "execution_count": 82,
   "metadata": {},
   "outputs": [
    {
     "data": {
      "text/plain": [
       "{29.0: 493,\n",
       " 30.0: 198,\n",
       " 21.0: 197,\n",
       " 24.0: 63,\n",
       " 27.0: 58,\n",
       " 38.0: 57,\n",
       " 28.0: 50,\n",
       " 22.0: 37,\n",
       " 23.0: 29,\n",
       " 20.0: 25,\n",
       " 39.0: 23,\n",
       " 18.0: 21,\n",
       " 26.0: 19,\n",
       " 37.0: 16,\n",
       " 35.0: 13,\n",
       " 34.0: 13,\n",
       " 25.0: 12,\n",
       " 40.0: 11,\n",
       " 19.0: 9,\n",
       " 36.0: 9,\n",
       " 41.0: 7,\n",
       " 80.0: 6,\n",
       " 33.0: 6,\n",
       " 31.0: 4,\n",
       " 32.0: 3,\n",
       " 17.0: 3,\n",
       " 50.0: 2,\n",
       " 65.0: 1,\n",
       " 70.0: 1,\n",
       " 22.7: 1,\n",
       " 44.0: 1,\n",
       " 60.0: 1,\n",
       " 42.0: 1,\n",
       " 43.0: 1,\n",
       " 47.0: 1,\n",
       " 48.0: 1,\n",
       " 51.0: 1,\n",
       " 72.0: 1,\n",
       " 97.0: 1}"
      ]
     },
     "execution_count": 82,
     "metadata": {},
     "output_type": "execute_result"
    }
   ],
   "source": [
    "dict(df_train['A6'].value_counts())"
   ]
  },
  {
   "cell_type": "code",
   "execution_count": 35,
   "metadata": {},
   "outputs": [
    {
     "data": {
      "text/plain": [
       "count          149\n",
       "unique          75\n",
       "top       12:40:00\n",
       "freq            13\n",
       "Name: A7, dtype: object"
      ]
     },
     "execution_count": 35,
     "metadata": {},
     "output_type": "execute_result"
    }
   ],
   "source": [
    "df_train['A7'].describe()"
   ]
  },
  {
   "cell_type": "code",
   "execution_count": 83,
   "metadata": {},
   "outputs": [
    {
     "data": {
      "text/plain": [
       "{'12:40:00': 13,\n",
       " '15:40:00': 7,\n",
       " '7:00:00': 5,\n",
       " '2:10:00': 5,\n",
       " '7:10:00': 4,\n",
       " '21:40:00': 4,\n",
       " '2:30:00': 4,\n",
       " '2:45:00': 3,\n",
       " '12:30:00': 3,\n",
       " '17:30:00': 3,\n",
       " '21:45:00': 3,\n",
       " '12:15:00': 3,\n",
       " '17:10:00': 3,\n",
       " '19:40:00': 3,\n",
       " '7:40:00': 3,\n",
       " '15:20:00': 3,\n",
       " '6:15:00': 3,\n",
       " '9:30:00': 2,\n",
       " '22:00:00': 2,\n",
       " '7:45:00': 2,\n",
       " '2:40:00': 2,\n",
       " '13:00:00': 2,\n",
       " '4:30:00': 2,\n",
       " '23:30:00': 2,\n",
       " '21:20:00': 2,\n",
       " '16:00:00': 2,\n",
       " '21:15:00': 2,\n",
       " '3:00:00': 2,\n",
       " '22:30:00': 2,\n",
       " '12:45:00': 2,\n",
       " '4:20:00': 2,\n",
       " '6:20:00': 2,\n",
       " '15:10:00': 2,\n",
       " '13:40:00': 2,\n",
       " '20:40:00': 2,\n",
       " '15:45:00': 2,\n",
       " '16:20:00': 1,\n",
       " '15:15:00': 1,\n",
       " '13:10:00': 1,\n",
       " '22:40:00': 1,\n",
       " '3:30:00': 1,\n",
       " '6:25:00': 1,\n",
       " '14:15:00': 1,\n",
       " '7:30:00': 1,\n",
       " '21:10:00': 1,\n",
       " '6:30:00': 1,\n",
       " '18:10:00': 1,\n",
       " '15:00:00': 1,\n",
       " '1:30:00': 1,\n",
       " '11:45:00': 1,\n",
       " '20:15:00': 1,\n",
       " '5:15:00': 1,\n",
       " '8:40:00': 1,\n",
       " '6:40:00': 1,\n",
       " '9:00:00': 1,\n",
       " '8:10:00': 1,\n",
       " '13:45:00': 1,\n",
       " '21:30:00': 1,\n",
       " '5:30:00': 1,\n",
       " '1:10:00': 1,\n",
       " '2:20:00': 1,\n",
       " '12:00:00': 1,\n",
       " '1:00:00': 1,\n",
       " '17:15:00': 1,\n",
       " '21:00:00': 1,\n",
       " '11:15:00': 1,\n",
       " '3:50:00': 1,\n",
       " '14:40:00': 1,\n",
       " '1:50:00': 1,\n",
       " '3:40:00': 1,\n",
       " '19:30:00': 1,\n",
       " '16:40:00': 1,\n",
       " '22:20:00': 1,\n",
       " '17:45:00': 1,\n",
       " '18:00:00': 1}"
      ]
     },
     "execution_count": 83,
     "metadata": {},
     "output_type": "execute_result"
    }
   ],
   "source": [
    "dict(df_train['A7'].value_counts())"
   ]
  },
  {
   "cell_type": "code",
   "execution_count": 36,
   "metadata": {},
   "outputs": [
    {
     "data": {
      "text/plain": [
       "count    149.000000\n",
       "mean      78.818792\n",
       "std        2.683920\n",
       "min       70.000000\n",
       "25%       80.000000\n",
       "50%       80.000000\n",
       "75%       80.000000\n",
       "max       82.000000\n",
       "Name: A8, dtype: float64"
      ]
     },
     "execution_count": 36,
     "metadata": {},
     "output_type": "execute_result"
    }
   ],
   "source": [
    "df_train['A8'].describe()"
   ]
  },
  {
   "cell_type": "code",
   "execution_count": 37,
   "metadata": {},
   "outputs": [
    {
     "data": {
      "text/plain": [
       "count        1396\n",
       "unique         95\n",
       "top       8:00:00\n",
       "freq          252\n",
       "Name: A9, dtype: object"
      ]
     },
     "execution_count": 37,
     "metadata": {},
     "output_type": "execute_result"
    }
   ],
   "source": [
    "df_train['A9'].describe()"
   ]
  },
  {
   "cell_type": "code",
   "execution_count": 84,
   "metadata": {},
   "outputs": [
    {
     "data": {
      "text/plain": [
       "{'8:00:00': 252,\n",
       " '16:00:00': 248,\n",
       " '0:00:00': 150,\n",
       " '23:00:00': 92,\n",
       " '3:00:00': 32,\n",
       " '23:30:00': 26,\n",
       " '19:00:00': 26,\n",
       " '20:00:00': 26,\n",
       " '10:00:00': 24,\n",
       " '11:00:00': 22,\n",
       " '15:00:00': 22,\n",
       " '5:00:00': 18,\n",
       " '2:30:00': 17,\n",
       " '7:00:00': 17,\n",
       " '15:30:00': 17,\n",
       " '14:00:00': 17,\n",
       " '12:30:00': 16,\n",
       " '7:30:00': 16,\n",
       " '4:00:00': 15,\n",
       " '17:00:00': 15,\n",
       " '13:30:00': 14,\n",
       " '22:30:00': 14,\n",
       " '9:00:00': 14,\n",
       " '17:30:00': 13,\n",
       " '14:30:00': 13,\n",
       " '6:00:00': 13,\n",
       " '18:00:00': 11,\n",
       " '16:30:00': 11,\n",
       " '9:30:00': 11,\n",
       " '18:30:00': 11,\n",
       " '11:30:00': 10,\n",
       " '6:30:00': 10,\n",
       " '22:00:00': 10,\n",
       " '1:30:00': 10,\n",
       " '13:00:00': 9,\n",
       " '8:30:00': 9,\n",
       " '3:30:00': 9,\n",
       " '21:00:00': 9,\n",
       " '0:30:00': 8,\n",
       " '12:00:00': 8,\n",
       " '4:30:00': 8,\n",
       " '10:30:00': 7,\n",
       " '5:30:00': 7,\n",
       " '19:30:00': 6,\n",
       " '1:00:00': 6,\n",
       " '2:00:00': 5,\n",
       " '20:30:00': 5,\n",
       " '8:20:00': 4,\n",
       " '21:30:00': 4,\n",
       " '18:40:00': 3,\n",
       " '8:15:00': 3,\n",
       " '9:20:00': 2,\n",
       " '5:45:00': 2,\n",
       " '17:15:00': 2,\n",
       " '23:20:00': 2,\n",
       " '7:40:00': 2,\n",
       " '8:50:00': 2,\n",
       " '14:20:00': 2,\n",
       " '9:40:00': 2,\n",
       " '14:40:00': 2,\n",
       " '3:10:00': 1,\n",
       " '13:40:00': 1,\n",
       " '11:50:00': 1,\n",
       " '4:15:00': 1,\n",
       " '17:50:00': 1,\n",
       " '23:15:00': 1,\n",
       " '6:50:00': 1,\n",
       " '10:45:00': 1,\n",
       " '16:20:00': 1,\n",
       " '14:15:00': 1,\n",
       " '2:40:00': 1,\n",
       " '13:20:00': 1,\n",
       " '13:50:00': 1,\n",
       " '23:40:00': 1,\n",
       " '18:05:00': 1,\n",
       " '22:45:00': 1,\n",
       " '17:20:00': 1,\n",
       " '8:45:00': 1,\n",
       " '19:50:00': 1,\n",
       " '14:50:00': 1,\n",
       " '7:10:00': 1,\n",
       " '10:35:00': 1,\n",
       " '8:05:00': 1,\n",
       " '4:40:00': 1,\n",
       " '9:10:00': 1,\n",
       " '15:40:00': 1,\n",
       " '700': 1,\n",
       " '15:20:00': 1,\n",
       " '14:10:00': 1,\n",
       " '22:20:00': 1,\n",
       " '16:50:00': 1,\n",
       " '1900/1/9 7:00': 1,\n",
       " '17:10:00': 1,\n",
       " '16:15:00': 1,\n",
       " '21:20:00': 1}"
      ]
     },
     "execution_count": 84,
     "metadata": {},
     "output_type": "execute_result"
    }
   ],
   "source": [
    "dict(df_train['A9'].value_counts())"
   ]
  },
  {
   "cell_type": "code",
   "execution_count": 38,
   "metadata": {},
   "outputs": [
    {
     "data": {
      "text/plain": [
       "count    1396.000000\n",
       "mean      100.861032\n",
       "std         0.905198\n",
       "min       100.000000\n",
       "25%       100.000000\n",
       "50%       101.000000\n",
       "75%       102.000000\n",
       "max       103.000000\n",
       "Name: A10, dtype: float64"
      ]
     },
     "execution_count": 38,
     "metadata": {},
     "output_type": "execute_result"
    }
   ],
   "source": [
    "df_train['A10'].describe()"
   ]
  },
  {
   "cell_type": "code",
   "execution_count": 39,
   "metadata": {},
   "outputs": [
    {
     "data": {
      "text/plain": [
       "count        1396\n",
       "unique         94\n",
       "top       9:00:00\n",
       "freq          251\n",
       "Name: A11, dtype: object"
      ]
     },
     "execution_count": 39,
     "metadata": {},
     "output_type": "execute_result"
    }
   ],
   "source": [
    "df_train['A11'].describe()"
   ]
  },
  {
   "cell_type": "code",
   "execution_count": 85,
   "metadata": {},
   "outputs": [
    {
     "data": {
      "text/plain": [
       "{'9:00:00': 251,\n",
       " '17:00:00': 247,\n",
       " '1:00:00': 153,\n",
       " '0:00:00': 92,\n",
       " '4:00:00': 31,\n",
       " '20:00:00': 26,\n",
       " '21:00:00': 26,\n",
       " '11:00:00': 24,\n",
       " '0:30:00': 22,\n",
       " '16:00:00': 22,\n",
       " '12:00:00': 21,\n",
       " '8:00:00': 19,\n",
       " '6:00:00': 18,\n",
       " '15:00:00': 17,\n",
       " '13:30:00': 17,\n",
       " '16:30:00': 17,\n",
       " '3:30:00': 17,\n",
       " '8:30:00': 16,\n",
       " '23:30:00': 15,\n",
       " '5:00:00': 14,\n",
       " '18:00:00': 14,\n",
       " '14:30:00': 14,\n",
       " '7:00:00': 13,\n",
       " '17:30:00': 13,\n",
       " '18:30:00': 13,\n",
       " '19:00:00': 12,\n",
       " '15:30:00': 12,\n",
       " '7:30:00': 12,\n",
       " '10:00:00': 12,\n",
       " '12:30:00': 11,\n",
       " '10:30:00': 11,\n",
       " '19:30:00': 11,\n",
       " '23:00:00': 10,\n",
       " '2:30:00': 10,\n",
       " '9:30:00': 10,\n",
       " '13:00:00': 9,\n",
       " '4:30:00': 9,\n",
       " '22:00:00': 9,\n",
       " '1:30:00': 8,\n",
       " '5:30:00': 8,\n",
       " '14:00:00': 8,\n",
       " '6:30:00': 7,\n",
       " '11:30:00': 7,\n",
       " '2:00:00': 6,\n",
       " '20:30:00': 6,\n",
       " '9:20:00': 5,\n",
       " '3:00:00': 5,\n",
       " '22:30:00': 4,\n",
       " '21:30:00': 4,\n",
       " '9:15:00': 3,\n",
       " '19:40:00': 3,\n",
       " '9:50:00': 2,\n",
       " '15:20:00': 2,\n",
       " '6:45:00': 2,\n",
       " '10:40:00': 2,\n",
       " '15:40:00': 2,\n",
       " '0:20:00': 2,\n",
       " '10:20:00': 2,\n",
       " '8:40:00': 2,\n",
       " '18:15:00': 2,\n",
       " '5:40:00': 1,\n",
       " '5:15:00': 1,\n",
       " '12:15:00': 1,\n",
       " '4:10:00': 1,\n",
       " '15:10:00': 1,\n",
       " '16:20:00': 1,\n",
       " '18:50:00': 1,\n",
       " '8:10:00': 1,\n",
       " '7:50:00': 1,\n",
       " '0:40:00': 1,\n",
       " '10:10:00': 1,\n",
       " '12:50:00': 1,\n",
       " '11:45:00': 1,\n",
       " '0:15:00': 1,\n",
       " '1900/1/1 2:30': 1,\n",
       " '17:50:00': 1,\n",
       " '23:20:00': 1,\n",
       " '17:15:00': 1,\n",
       " '14:40:00': 1,\n",
       " '3:40:00': 1,\n",
       " '16:40:00': 1,\n",
       " '11:35:00': 1,\n",
       " '19:15:00': 1,\n",
       " '9:05:00': 1,\n",
       " '15:15:00': 1,\n",
       " '22:20:00': 1,\n",
       " '18:20:00': 1,\n",
       " ':30:00': 1,\n",
       " '14:50:00': 1,\n",
       " '18:10:00': 1,\n",
       " '20:50:00': 1,\n",
       " '15:50:00': 1,\n",
       " '14:20:00': 1,\n",
       " '23:45:00': 1}"
      ]
     },
     "execution_count": 85,
     "metadata": {},
     "output_type": "execute_result"
    }
   ],
   "source": [
    "dict(df_train['A11'].value_counts())"
   ]
  },
  {
   "cell_type": "code",
   "execution_count": 40,
   "metadata": {},
   "outputs": [
    {
     "data": {
      "text/plain": [
       "count    1396.000000\n",
       "mean      102.641834\n",
       "std         0.915387\n",
       "min        98.000000\n",
       "25%       102.000000\n",
       "50%       103.000000\n",
       "75%       103.000000\n",
       "max       107.000000\n",
       "Name: A12, dtype: float64"
      ]
     },
     "execution_count": 40,
     "metadata": {},
     "output_type": "execute_result"
    }
   ],
   "source": [
    "df_train['A12'].describe()"
   ]
  },
  {
   "cell_type": "code",
   "execution_count": 41,
   "metadata": {},
   "outputs": [
    {
     "data": {
      "text/plain": [
       "count    1396.000000\n",
       "mean        0.199907\n",
       "std         0.002524\n",
       "min         0.120000\n",
       "25%         0.200000\n",
       "50%         0.200000\n",
       "75%         0.200000\n",
       "max         0.200000\n",
       "Name: A13, dtype: float64"
      ]
     },
     "execution_count": 41,
     "metadata": {},
     "output_type": "execute_result"
    }
   ],
   "source": [
    "df_train['A13'].describe()"
   ]
  },
  {
   "cell_type": "code",
   "execution_count": 43,
   "metadata": {},
   "outputs": [
    {
     "data": {
      "text/plain": [
       "count         1396\n",
       "unique          92\n",
       "top       10:00:00\n",
       "freq           251\n",
       "Name: A14, dtype: object"
      ]
     },
     "execution_count": 43,
     "metadata": {},
     "output_type": "execute_result"
    }
   ],
   "source": [
    "df_train['A14'].describe()"
   ]
  },
  {
   "cell_type": "code",
   "execution_count": 44,
   "metadata": {},
   "outputs": [
    {
     "data": {
      "text/plain": [
       "count    1396.000000\n",
       "mean      103.829370\n",
       "std         0.963639\n",
       "min       100.000000\n",
       "25%       103.000000\n",
       "50%       104.000000\n",
       "75%       104.000000\n",
       "max       109.000000\n",
       "Name: A15, dtype: float64"
      ]
     },
     "execution_count": 44,
     "metadata": {},
     "output_type": "execute_result"
    }
   ],
   "source": [
    "df_train['A15'].describe()"
   ]
  },
  {
   "cell_type": "code",
   "execution_count": 45,
   "metadata": {},
   "outputs": [
    {
     "data": {
      "text/plain": [
       "count         1396\n",
       "unique          94\n",
       "top       11:00:00\n",
       "freq           250\n",
       "Name: A16, dtype: object"
      ]
     },
     "execution_count": 45,
     "metadata": {},
     "output_type": "execute_result"
    }
   ],
   "source": [
    "df_train['A16'].describe()"
   ]
  },
  {
   "cell_type": "code",
   "execution_count": 46,
   "metadata": {},
   "outputs": [
    {
     "data": {
      "text/plain": [
       "count    1396.000000\n",
       "mean      104.766905\n",
       "std         1.401446\n",
       "min        89.000000\n",
       "25%       104.000000\n",
       "50%       105.000000\n",
       "75%       105.000000\n",
       "max       108.000000\n",
       "Name: A17, dtype: float64"
      ]
     },
     "execution_count": 46,
     "metadata": {},
     "output_type": "execute_result"
    }
   ],
   "source": [
    "df_train['A17'].describe()"
   ]
  },
  {
   "cell_type": "code",
   "execution_count": 47,
   "metadata": {},
   "outputs": [
    {
     "data": {
      "text/plain": [
       "count    1396.000000\n",
       "mean        0.199928\n",
       "std         0.002676\n",
       "min         0.100000\n",
       "25%         0.200000\n",
       "50%         0.200000\n",
       "75%         0.200000\n",
       "max         0.200000\n",
       "Name: A18, dtype: float64"
      ]
     },
     "execution_count": 47,
     "metadata": {},
     "output_type": "execute_result"
    }
   ],
   "source": [
    "df_train['A18'].describe()"
   ]
  },
  {
   "cell_type": "code",
   "execution_count": 48,
   "metadata": {},
   "outputs": [
    {
     "data": {
      "text/plain": [
       "count    1396.000000\n",
       "mean      231.067335\n",
       "std        50.478071\n",
       "min       100.000000\n",
       "25%       200.000000\n",
       "50%       200.000000\n",
       "75%       300.000000\n",
       "max       350.000000\n",
       "Name: A19, dtype: float64"
      ]
     },
     "execution_count": 48,
     "metadata": {},
     "output_type": "execute_result"
    }
   ],
   "source": [
    "df_train['A19'].describe()"
   ]
  },
  {
   "cell_type": "code",
   "execution_count": 49,
   "metadata": {},
   "outputs": [
    {
     "data": {
      "text/plain": [
       "count            1396\n",
       "unique            159\n",
       "top       11:00-12:00\n",
       "freq              239\n",
       "Name: A20, dtype: object"
      ]
     },
     "execution_count": 49,
     "metadata": {},
     "output_type": "execute_result"
    }
   ],
   "source": [
    "df_train['A20'].describe()"
   ]
  },
  {
   "cell_type": "code",
   "execution_count": 50,
   "metadata": {},
   "outputs": [
    {
     "data": {
      "text/plain": [
       "count    1393.000000\n",
       "mean       48.707825\n",
       "std         4.976531\n",
       "min        20.000000\n",
       "25%        50.000000\n",
       "50%        50.000000\n",
       "75%        50.000000\n",
       "max        90.000000\n",
       "Name: A21, dtype: float64"
      ]
     },
     "execution_count": 50,
     "metadata": {},
     "output_type": "execute_result"
    }
   ],
   "source": [
    "df_train['A21'].describe()"
   ]
  },
  {
   "cell_type": "code",
   "execution_count": 51,
   "metadata": {},
   "outputs": [
    {
     "data": {
      "text/plain": [
       "count    1396.000000\n",
       "mean        9.117120\n",
       "std         0.369152\n",
       "min         3.500000\n",
       "25%         9.000000\n",
       "50%         9.000000\n",
       "75%         9.000000\n",
       "max        10.000000\n",
       "Name: A22, dtype: float64"
      ]
     },
     "execution_count": 51,
     "metadata": {},
     "output_type": "execute_result"
    }
   ],
   "source": [
    "df_train['A22'].describe()"
   ]
  },
  {
   "cell_type": "code",
   "execution_count": 52,
   "metadata": {},
   "outputs": [
    {
     "data": {
      "text/plain": [
       "count    1393.000000\n",
       "mean        5.002872\n",
       "std         0.136638\n",
       "min         4.000000\n",
       "25%         5.000000\n",
       "50%         5.000000\n",
       "75%         5.000000\n",
       "max        10.000000\n",
       "Name: A23, dtype: float64"
      ]
     },
     "execution_count": 52,
     "metadata": {},
     "output_type": "execute_result"
    }
   ],
   "source": [
    "df_train['A23'].describe()"
   ]
  },
  {
   "cell_type": "code",
   "execution_count": 53,
   "metadata": {},
   "outputs": [
    {
     "data": {
      "text/plain": [
       "count         1395\n",
       "unique          91\n",
       "top       12:00:00\n",
       "freq           258\n",
       "Name: A24, dtype: object"
      ]
     },
     "execution_count": 53,
     "metadata": {},
     "output_type": "execute_result"
    }
   ],
   "source": [
    "df_train['A24'].describe()"
   ]
  },
  {
   "cell_type": "code",
   "execution_count": 54,
   "metadata": {},
   "outputs": [
    {
     "data": {
      "text/plain": [
       "count     1396\n",
       "unique      15\n",
       "top         80\n",
       "freq       542\n",
       "Name: A25, dtype: object"
      ]
     },
     "execution_count": 54,
     "metadata": {},
     "output_type": "execute_result"
    }
   ],
   "source": [
    "df_train['A25'].describe()"
   ]
  },
  {
   "cell_type": "code",
   "execution_count": 55,
   "metadata": {},
   "outputs": [
    {
     "data": {
      "text/plain": [
       "count         1394\n",
       "unique          88\n",
       "top       13:00:00\n",
       "freq           265\n",
       "Name: A26, dtype: object"
      ]
     },
     "execution_count": 55,
     "metadata": {},
     "output_type": "execute_result"
    }
   ],
   "source": [
    "df_train['A26'].describe()"
   ]
  },
  {
   "cell_type": "code",
   "execution_count": 56,
   "metadata": {},
   "outputs": [
    {
     "data": {
      "text/plain": [
       "count    1396.000000\n",
       "mean       74.396848\n",
       "std         3.044490\n",
       "min        45.000000\n",
       "25%        73.000000\n",
       "50%        73.000000\n",
       "75%        77.000000\n",
       "max        80.000000\n",
       "Name: A27, dtype: float64"
      ]
     },
     "execution_count": 56,
     "metadata": {},
     "output_type": "execute_result"
    }
   ],
   "source": [
    "df_train['A27'].describe()"
   ]
  },
  {
   "cell_type": "code",
   "execution_count": 57,
   "metadata": {},
   "outputs": [
    {
     "data": {
      "text/plain": [
       "count            1396\n",
       "unique            157\n",
       "top       13:00-14:00\n",
       "freq              243\n",
       "Name: A28, dtype: object"
      ]
     },
     "execution_count": 57,
     "metadata": {},
     "output_type": "execute_result"
    }
   ],
   "source": [
    "df_train['A28'].describe()"
   ]
  },
  {
   "cell_type": "code",
   "execution_count": 59,
   "metadata": {},
   "outputs": [
    {
     "data": {
      "text/plain": [
       "count    1386.000000\n",
       "mean      334.452742\n",
       "std       105.120753\n",
       "min         3.500000\n",
       "25%       320.000000\n",
       "50%       320.000000\n",
       "75%       330.000000\n",
       "max      1200.000000\n",
       "Name: B1, dtype: float64"
      ]
     },
     "execution_count": 59,
     "metadata": {},
     "output_type": "execute_result"
    }
   ],
   "source": [
    "df_train['B1'].describe()"
   ]
  },
  {
   "cell_type": "code",
   "execution_count": 60,
   "metadata": {},
   "outputs": [
    {
     "data": {
      "text/plain": [
       "count    1394.000000\n",
       "mean        3.454412\n",
       "std         0.388585\n",
       "min         0.150000\n",
       "25%         3.500000\n",
       "50%         3.500000\n",
       "75%         3.500000\n",
       "max         3.600000\n",
       "Name: B2, dtype: float64"
      ]
     },
     "execution_count": 60,
     "metadata": {},
     "output_type": "execute_result"
    }
   ],
   "source": [
    "df_train['B2'].describe()"
   ]
  },
  {
   "cell_type": "code",
   "execution_count": 61,
   "metadata": {},
   "outputs": [
    {
     "data": {
      "text/plain": [
       "count    1394.000000\n",
       "mean        3.500072\n",
       "std         0.002678\n",
       "min         3.500000\n",
       "25%         3.500000\n",
       "50%         3.500000\n",
       "75%         3.500000\n",
       "max         3.600000\n",
       "Name: B3, dtype: float64"
      ]
     },
     "execution_count": 61,
     "metadata": {},
     "output_type": "execute_result"
    }
   ],
   "source": [
    "df_train['B3'].describe()"
   ]
  },
  {
   "cell_type": "code",
   "execution_count": 62,
   "metadata": {},
   "outputs": [
    {
     "data": {
      "text/plain": [
       "count            1396\n",
       "unique            178\n",
       "top       14:00-15:00\n",
       "freq              240\n",
       "Name: B4, dtype: object"
      ]
     },
     "execution_count": 62,
     "metadata": {},
     "output_type": "execute_result"
    }
   ],
   "source": [
    "df_train['B4'].describe()"
   ]
  },
  {
   "cell_type": "code",
   "execution_count": 63,
   "metadata": {},
   "outputs": [
    {
     "data": {
      "text/plain": [
       "count         1395\n",
       "unique          60\n",
       "top       15:00:00\n",
       "freq           245\n",
       "Name: B5, dtype: object"
      ]
     },
     "execution_count": 63,
     "metadata": {},
     "output_type": "execute_result"
    }
   ],
   "source": [
    "df_train['B5'].describe()"
   ]
  },
  {
   "cell_type": "code",
   "execution_count": 64,
   "metadata": {},
   "outputs": [
    {
     "data": {
      "text/plain": [
       "count    1396.000000\n",
       "mean       72.065186\n",
       "std         9.161986\n",
       "min        40.000000\n",
       "25%        65.000000\n",
       "50%        78.000000\n",
       "75%        80.000000\n",
       "max        80.000000\n",
       "Name: B6, dtype: float64"
      ]
     },
     "execution_count": 64,
     "metadata": {},
     "output_type": "execute_result"
    }
   ],
   "source": [
    "df_train['B6'].describe()"
   ]
  },
  {
   "cell_type": "code",
   "execution_count": 65,
   "metadata": {},
   "outputs": [
    {
     "data": {
      "text/plain": [
       "count         1396\n",
       "unique          58\n",
       "top       17:00:00\n",
       "freq           263\n",
       "Name: B7, dtype: object"
      ]
     },
     "execution_count": 65,
     "metadata": {},
     "output_type": "execute_result"
    }
   ],
   "source": [
    "df_train['B7'].describe()"
   ]
  },
  {
   "cell_type": "code",
   "execution_count": 66,
   "metadata": {},
   "outputs": [
    {
     "data": {
      "text/plain": [
       "count    1395.000000\n",
       "mean       43.709677\n",
       "std         4.338396\n",
       "min        20.000000\n",
       "25%        45.000000\n",
       "50%        45.000000\n",
       "75%        45.000000\n",
       "max        73.000000\n",
       "Name: B8, dtype: float64"
      ]
     },
     "execution_count": 66,
     "metadata": {},
     "output_type": "execute_result"
    }
   ],
   "source": [
    "df_train['B8'].describe()"
   ]
  },
  {
   "cell_type": "code",
   "execution_count": 67,
   "metadata": {},
   "outputs": [
    {
     "data": {
      "text/plain": [
       "count            1396\n",
       "unique            178\n",
       "top       17:00-18:30\n",
       "freq              189\n",
       "Name: B9, dtype: object"
      ]
     },
     "execution_count": 67,
     "metadata": {},
     "output_type": "execute_result"
    }
   ],
   "source": [
    "df_train['B9'].describe()"
   ]
  },
  {
   "cell_type": "code",
   "execution_count": 68,
   "metadata": {},
   "outputs": [
    {
     "data": {
      "text/plain": [
       "count            1152\n",
       "unique            180\n",
       "top       10:30-12:00\n",
       "freq              166\n",
       "Name: B10, dtype: object"
      ]
     },
     "execution_count": 68,
     "metadata": {},
     "output_type": "execute_result"
    }
   ],
   "source": [
    "df_train['B10'].describe()"
   ]
  },
  {
   "cell_type": "code",
   "execution_count": 69,
   "metadata": {},
   "outputs": [
    {
     "data": {
      "text/plain": [
       "count             547\n",
       "unique             37\n",
       "top       20:00-21:00\n",
       "freq              154\n",
       "Name: B11, dtype: object"
      ]
     },
     "execution_count": 69,
     "metadata": {},
     "output_type": "execute_result"
    }
   ],
   "source": [
    "df_train['B11'].describe()"
   ]
  },
  {
   "cell_type": "code",
   "execution_count": 70,
   "metadata": {},
   "outputs": [
    {
     "data": {
      "text/plain": [
       "count    1395.000000\n",
       "mean     1020.215054\n",
       "std       205.920155\n",
       "min       400.000000\n",
       "25%       800.000000\n",
       "50%      1200.000000\n",
       "75%      1200.000000\n",
       "max      1200.000000\n",
       "Name: B12, dtype: float64"
      ]
     },
     "execution_count": 70,
     "metadata": {},
     "output_type": "execute_result"
    }
   ],
   "source": [
    "df_train['B12'].describe()"
   ]
  },
  {
   "cell_type": "code",
   "execution_count": 71,
   "metadata": {},
   "outputs": [
    {
     "data": {
      "text/plain": [
       "count    1395.000000\n",
       "mean        0.149419\n",
       "std         0.008213\n",
       "min         0.030000\n",
       "25%         0.150000\n",
       "50%         0.150000\n",
       "75%         0.150000\n",
       "max         0.150000\n",
       "Name: B13, dtype: float64"
      ]
     },
     "execution_count": 71,
     "metadata": {},
     "output_type": "execute_result"
    }
   ],
   "source": [
    "df_train['B13'].describe()"
   ]
  },
  {
   "cell_type": "code",
   "execution_count": 72,
   "metadata": {},
   "outputs": [
    {
     "data": {
      "text/plain": [
       "count    1396.000000\n",
       "mean      410.403295\n",
       "std        26.018410\n",
       "min        40.000000\n",
       "25%       400.000000\n",
       "50%       400.000000\n",
       "75%       420.000000\n",
       "max       460.000000\n",
       "Name: B14, dtype: float64"
      ]
     },
     "execution_count": 72,
     "metadata": {},
     "output_type": "execute_result"
    }
   ],
   "source": [
    "df_train['B14'].describe()"
   ]
  },
  {
   "cell_type": "code",
   "execution_count": 74,
   "metadata": {},
   "outputs": [
    {
     "data": {
      "text/plain": [
       "count    1396.000000\n",
       "mean        0.923244\n",
       "std         0.030880\n",
       "min         0.624000\n",
       "25%         0.902000\n",
       "50%         0.925000\n",
       "75%         0.943000\n",
       "max         1.000800\n",
       "Name: 收率, dtype: float64"
      ]
     },
     "execution_count": 74,
     "metadata": {},
     "output_type": "execute_result"
    }
   ],
   "source": [
    "df_train['收率'].describe()"
   ]
  },
  {
   "cell_type": "code",
   "execution_count": 89,
   "metadata": {},
   "outputs": [
    {
     "data": {
      "text/html": [
       "<div>\n",
       "<style scoped>\n",
       "    .dataframe tbody tr th:only-of-type {\n",
       "        vertical-align: middle;\n",
       "    }\n",
       "\n",
       "    .dataframe tbody tr th {\n",
       "        vertical-align: top;\n",
       "    }\n",
       "\n",
       "    .dataframe thead th {\n",
       "        text-align: right;\n",
       "    }\n",
       "</style>\n",
       "<table border=\"1\" class=\"dataframe\">\n",
       "  <thead>\n",
       "    <tr style=\"text-align: right;\">\n",
       "      <th></th>\n",
       "      <th>A1</th>\n",
       "      <th>A2</th>\n",
       "      <th>A3</th>\n",
       "      <th>A4</th>\n",
       "      <th>A6</th>\n",
       "      <th>A8</th>\n",
       "      <th>A10</th>\n",
       "      <th>A12</th>\n",
       "      <th>A13</th>\n",
       "      <th>A15</th>\n",
       "    </tr>\n",
       "  </thead>\n",
       "  <tbody>\n",
       "    <tr>\n",
       "      <th>count</th>\n",
       "      <td>1396.000000</td>\n",
       "      <td>42.0</td>\n",
       "      <td>1354.000000</td>\n",
       "      <td>1396.000000</td>\n",
       "      <td>1396.000000</td>\n",
       "      <td>149.000000</td>\n",
       "      <td>1396.000000</td>\n",
       "      <td>1396.000000</td>\n",
       "      <td>1396.000000</td>\n",
       "      <td>1396.000000</td>\n",
       "    </tr>\n",
       "    <tr>\n",
       "      <th>mean</th>\n",
       "      <td>298.853868</td>\n",
       "      <td>125.0</td>\n",
       "      <td>403.515510</td>\n",
       "      <td>705.974212</td>\n",
       "      <td>28.287751</td>\n",
       "      <td>78.818792</td>\n",
       "      <td>100.861032</td>\n",
       "      <td>102.641834</td>\n",
       "      <td>0.199907</td>\n",
       "      <td>103.829370</td>\n",
       "    </tr>\n",
       "    <tr>\n",
       "      <th>std</th>\n",
       "      <td>10.130552</td>\n",
       "      <td>0.0</td>\n",
       "      <td>13.348093</td>\n",
       "      <td>53.214754</td>\n",
       "      <td>6.742765</td>\n",
       "      <td>2.683920</td>\n",
       "      <td>0.905198</td>\n",
       "      <td>0.915387</td>\n",
       "      <td>0.002524</td>\n",
       "      <td>0.963639</td>\n",
       "    </tr>\n",
       "    <tr>\n",
       "      <th>min</th>\n",
       "      <td>200.000000</td>\n",
       "      <td>125.0</td>\n",
       "      <td>270.000000</td>\n",
       "      <td>470.000000</td>\n",
       "      <td>17.000000</td>\n",
       "      <td>70.000000</td>\n",
       "      <td>100.000000</td>\n",
       "      <td>98.000000</td>\n",
       "      <td>0.120000</td>\n",
       "      <td>100.000000</td>\n",
       "    </tr>\n",
       "    <tr>\n",
       "      <th>25%</th>\n",
       "      <td>300.000000</td>\n",
       "      <td>125.0</td>\n",
       "      <td>405.000000</td>\n",
       "      <td>700.000000</td>\n",
       "      <td>24.000000</td>\n",
       "      <td>80.000000</td>\n",
       "      <td>100.000000</td>\n",
       "      <td>102.000000</td>\n",
       "      <td>0.200000</td>\n",
       "      <td>103.000000</td>\n",
       "    </tr>\n",
       "    <tr>\n",
       "      <th>50%</th>\n",
       "      <td>300.000000</td>\n",
       "      <td>125.0</td>\n",
       "      <td>405.000000</td>\n",
       "      <td>700.000000</td>\n",
       "      <td>29.000000</td>\n",
       "      <td>80.000000</td>\n",
       "      <td>101.000000</td>\n",
       "      <td>103.000000</td>\n",
       "      <td>0.200000</td>\n",
       "      <td>104.000000</td>\n",
       "    </tr>\n",
       "    <tr>\n",
       "      <th>75%</th>\n",
       "      <td>300.000000</td>\n",
       "      <td>125.0</td>\n",
       "      <td>405.000000</td>\n",
       "      <td>700.000000</td>\n",
       "      <td>30.000000</td>\n",
       "      <td>80.000000</td>\n",
       "      <td>102.000000</td>\n",
       "      <td>103.000000</td>\n",
       "      <td>0.200000</td>\n",
       "      <td>104.000000</td>\n",
       "    </tr>\n",
       "    <tr>\n",
       "      <th>max</th>\n",
       "      <td>300.000000</td>\n",
       "      <td>125.0</td>\n",
       "      <td>405.000000</td>\n",
       "      <td>980.000000</td>\n",
       "      <td>97.000000</td>\n",
       "      <td>82.000000</td>\n",
       "      <td>103.000000</td>\n",
       "      <td>107.000000</td>\n",
       "      <td>0.200000</td>\n",
       "      <td>109.000000</td>\n",
       "    </tr>\n",
       "  </tbody>\n",
       "</table>\n",
       "</div>"
      ],
      "text/plain": [
       "                A1     A2           A3           A4           A6          A8  \\\n",
       "count  1396.000000   42.0  1354.000000  1396.000000  1396.000000  149.000000   \n",
       "mean    298.853868  125.0   403.515510   705.974212    28.287751   78.818792   \n",
       "std      10.130552    0.0    13.348093    53.214754     6.742765    2.683920   \n",
       "min     200.000000  125.0   270.000000   470.000000    17.000000   70.000000   \n",
       "25%     300.000000  125.0   405.000000   700.000000    24.000000   80.000000   \n",
       "50%     300.000000  125.0   405.000000   700.000000    29.000000   80.000000   \n",
       "75%     300.000000  125.0   405.000000   700.000000    30.000000   80.000000   \n",
       "max     300.000000  125.0   405.000000   980.000000    97.000000   82.000000   \n",
       "\n",
       "               A10          A12          A13          A15  \n",
       "count  1396.000000  1396.000000  1396.000000  1396.000000  \n",
       "mean    100.861032   102.641834     0.199907   103.829370  \n",
       "std       0.905198     0.915387     0.002524     0.963639  \n",
       "min     100.000000    98.000000     0.120000   100.000000  \n",
       "25%     100.000000   102.000000     0.200000   103.000000  \n",
       "50%     101.000000   103.000000     0.200000   104.000000  \n",
       "75%     102.000000   103.000000     0.200000   104.000000  \n",
       "max     103.000000   107.000000     0.200000   109.000000  "
      ]
     },
     "execution_count": 89,
     "metadata": {},
     "output_type": "execute_result"
    }
   ],
   "source": [
    "df_train.iloc[:,0:17].describe()"
   ]
  },
  {
   "cell_type": "code",
   "execution_count": 94,
   "metadata": {},
   "outputs": [
    {
     "data": {
      "text/html": [
       "<div>\n",
       "<style scoped>\n",
       "    .dataframe tbody tr th:only-of-type {\n",
       "        vertical-align: middle;\n",
       "    }\n",
       "\n",
       "    .dataframe tbody tr th {\n",
       "        vertical-align: top;\n",
       "    }\n",
       "\n",
       "    .dataframe thead th {\n",
       "        text-align: right;\n",
       "    }\n",
       "</style>\n",
       "<table border=\"1\" class=\"dataframe\">\n",
       "  <thead>\n",
       "    <tr style=\"text-align: right;\">\n",
       "      <th></th>\n",
       "      <th>A17</th>\n",
       "      <th>A18</th>\n",
       "      <th>A19</th>\n",
       "      <th>A21</th>\n",
       "      <th>A22</th>\n",
       "      <th>A23</th>\n",
       "      <th>A27</th>\n",
       "      <th>B1</th>\n",
       "      <th>B2</th>\n",
       "      <th>B3</th>\n",
       "    </tr>\n",
       "  </thead>\n",
       "  <tbody>\n",
       "    <tr>\n",
       "      <th>count</th>\n",
       "      <td>1396.000000</td>\n",
       "      <td>1396.000000</td>\n",
       "      <td>1396.000000</td>\n",
       "      <td>1393.000000</td>\n",
       "      <td>1396.000000</td>\n",
       "      <td>1393.000000</td>\n",
       "      <td>1396.000000</td>\n",
       "      <td>1386.000000</td>\n",
       "      <td>1394.000000</td>\n",
       "      <td>1394.000000</td>\n",
       "    </tr>\n",
       "    <tr>\n",
       "      <th>mean</th>\n",
       "      <td>104.766905</td>\n",
       "      <td>0.199928</td>\n",
       "      <td>231.067335</td>\n",
       "      <td>48.707825</td>\n",
       "      <td>9.117120</td>\n",
       "      <td>5.002872</td>\n",
       "      <td>74.396848</td>\n",
       "      <td>334.452742</td>\n",
       "      <td>3.454412</td>\n",
       "      <td>3.500072</td>\n",
       "    </tr>\n",
       "    <tr>\n",
       "      <th>std</th>\n",
       "      <td>1.401446</td>\n",
       "      <td>0.002676</td>\n",
       "      <td>50.478071</td>\n",
       "      <td>4.976531</td>\n",
       "      <td>0.369152</td>\n",
       "      <td>0.136638</td>\n",
       "      <td>3.044490</td>\n",
       "      <td>105.120753</td>\n",
       "      <td>0.388585</td>\n",
       "      <td>0.002678</td>\n",
       "    </tr>\n",
       "    <tr>\n",
       "      <th>min</th>\n",
       "      <td>89.000000</td>\n",
       "      <td>0.100000</td>\n",
       "      <td>100.000000</td>\n",
       "      <td>20.000000</td>\n",
       "      <td>3.500000</td>\n",
       "      <td>4.000000</td>\n",
       "      <td>45.000000</td>\n",
       "      <td>3.500000</td>\n",
       "      <td>0.150000</td>\n",
       "      <td>3.500000</td>\n",
       "    </tr>\n",
       "    <tr>\n",
       "      <th>25%</th>\n",
       "      <td>104.000000</td>\n",
       "      <td>0.200000</td>\n",
       "      <td>200.000000</td>\n",
       "      <td>50.000000</td>\n",
       "      <td>9.000000</td>\n",
       "      <td>5.000000</td>\n",
       "      <td>73.000000</td>\n",
       "      <td>320.000000</td>\n",
       "      <td>3.500000</td>\n",
       "      <td>3.500000</td>\n",
       "    </tr>\n",
       "    <tr>\n",
       "      <th>50%</th>\n",
       "      <td>105.000000</td>\n",
       "      <td>0.200000</td>\n",
       "      <td>200.000000</td>\n",
       "      <td>50.000000</td>\n",
       "      <td>9.000000</td>\n",
       "      <td>5.000000</td>\n",
       "      <td>73.000000</td>\n",
       "      <td>320.000000</td>\n",
       "      <td>3.500000</td>\n",
       "      <td>3.500000</td>\n",
       "    </tr>\n",
       "    <tr>\n",
       "      <th>75%</th>\n",
       "      <td>105.000000</td>\n",
       "      <td>0.200000</td>\n",
       "      <td>300.000000</td>\n",
       "      <td>50.000000</td>\n",
       "      <td>9.000000</td>\n",
       "      <td>5.000000</td>\n",
       "      <td>77.000000</td>\n",
       "      <td>330.000000</td>\n",
       "      <td>3.500000</td>\n",
       "      <td>3.500000</td>\n",
       "    </tr>\n",
       "    <tr>\n",
       "      <th>max</th>\n",
       "      <td>108.000000</td>\n",
       "      <td>0.200000</td>\n",
       "      <td>350.000000</td>\n",
       "      <td>90.000000</td>\n",
       "      <td>10.000000</td>\n",
       "      <td>10.000000</td>\n",
       "      <td>80.000000</td>\n",
       "      <td>1200.000000</td>\n",
       "      <td>3.600000</td>\n",
       "      <td>3.600000</td>\n",
       "    </tr>\n",
       "  </tbody>\n",
       "</table>\n",
       "</div>"
      ],
      "text/plain": [
       "               A17          A18          A19          A21          A22  \\\n",
       "count  1396.000000  1396.000000  1396.000000  1393.000000  1396.000000   \n",
       "mean    104.766905     0.199928   231.067335    48.707825     9.117120   \n",
       "std       1.401446     0.002676    50.478071     4.976531     0.369152   \n",
       "min      89.000000     0.100000   100.000000    20.000000     3.500000   \n",
       "25%     104.000000     0.200000   200.000000    50.000000     9.000000   \n",
       "50%     105.000000     0.200000   200.000000    50.000000     9.000000   \n",
       "75%     105.000000     0.200000   300.000000    50.000000     9.000000   \n",
       "max     108.000000     0.200000   350.000000    90.000000    10.000000   \n",
       "\n",
       "               A23          A27           B1           B2           B3  \n",
       "count  1393.000000  1396.000000  1386.000000  1394.000000  1394.000000  \n",
       "mean      5.002872    74.396848   334.452742     3.454412     3.500072  \n",
       "std       0.136638     3.044490   105.120753     0.388585     0.002678  \n",
       "min       4.000000    45.000000     3.500000     0.150000     3.500000  \n",
       "25%       5.000000    73.000000   320.000000     3.500000     3.500000  \n",
       "50%       5.000000    73.000000   320.000000     3.500000     3.500000  \n",
       "75%       5.000000    77.000000   330.000000     3.500000     3.500000  \n",
       "max      10.000000    80.000000  1200.000000     3.600000     3.600000  "
      ]
     },
     "execution_count": 94,
     "metadata": {},
     "output_type": "execute_result"
    }
   ],
   "source": [
    "df_train.iloc[:,17:34].describe()"
   ]
  },
  {
   "cell_type": "code",
   "execution_count": 93,
   "metadata": {},
   "outputs": [
    {
     "data": {
      "text/html": [
       "<div>\n",
       "<style scoped>\n",
       "    .dataframe tbody tr th:only-of-type {\n",
       "        vertical-align: middle;\n",
       "    }\n",
       "\n",
       "    .dataframe tbody tr th {\n",
       "        vertical-align: top;\n",
       "    }\n",
       "\n",
       "    .dataframe thead th {\n",
       "        text-align: right;\n",
       "    }\n",
       "</style>\n",
       "<table border=\"1\" class=\"dataframe\">\n",
       "  <thead>\n",
       "    <tr style=\"text-align: right;\">\n",
       "      <th></th>\n",
       "      <th>B6</th>\n",
       "      <th>B8</th>\n",
       "      <th>B12</th>\n",
       "      <th>B13</th>\n",
       "      <th>B14</th>\n",
       "      <th>收率</th>\n",
       "    </tr>\n",
       "  </thead>\n",
       "  <tbody>\n",
       "    <tr>\n",
       "      <th>count</th>\n",
       "      <td>1396.000000</td>\n",
       "      <td>1395.000000</td>\n",
       "      <td>1395.000000</td>\n",
       "      <td>1395.000000</td>\n",
       "      <td>1396.000000</td>\n",
       "      <td>1396.000000</td>\n",
       "    </tr>\n",
       "    <tr>\n",
       "      <th>mean</th>\n",
       "      <td>72.065186</td>\n",
       "      <td>43.709677</td>\n",
       "      <td>1020.215054</td>\n",
       "      <td>0.149419</td>\n",
       "      <td>410.403295</td>\n",
       "      <td>0.923244</td>\n",
       "    </tr>\n",
       "    <tr>\n",
       "      <th>std</th>\n",
       "      <td>9.161986</td>\n",
       "      <td>4.338396</td>\n",
       "      <td>205.920155</td>\n",
       "      <td>0.008213</td>\n",
       "      <td>26.018410</td>\n",
       "      <td>0.030880</td>\n",
       "    </tr>\n",
       "    <tr>\n",
       "      <th>min</th>\n",
       "      <td>40.000000</td>\n",
       "      <td>20.000000</td>\n",
       "      <td>400.000000</td>\n",
       "      <td>0.030000</td>\n",
       "      <td>40.000000</td>\n",
       "      <td>0.624000</td>\n",
       "    </tr>\n",
       "    <tr>\n",
       "      <th>25%</th>\n",
       "      <td>65.000000</td>\n",
       "      <td>45.000000</td>\n",
       "      <td>800.000000</td>\n",
       "      <td>0.150000</td>\n",
       "      <td>400.000000</td>\n",
       "      <td>0.902000</td>\n",
       "    </tr>\n",
       "    <tr>\n",
       "      <th>50%</th>\n",
       "      <td>78.000000</td>\n",
       "      <td>45.000000</td>\n",
       "      <td>1200.000000</td>\n",
       "      <td>0.150000</td>\n",
       "      <td>400.000000</td>\n",
       "      <td>0.925000</td>\n",
       "    </tr>\n",
       "    <tr>\n",
       "      <th>75%</th>\n",
       "      <td>80.000000</td>\n",
       "      <td>45.000000</td>\n",
       "      <td>1200.000000</td>\n",
       "      <td>0.150000</td>\n",
       "      <td>420.000000</td>\n",
       "      <td>0.943000</td>\n",
       "    </tr>\n",
       "    <tr>\n",
       "      <th>max</th>\n",
       "      <td>80.000000</td>\n",
       "      <td>73.000000</td>\n",
       "      <td>1200.000000</td>\n",
       "      <td>0.150000</td>\n",
       "      <td>460.000000</td>\n",
       "      <td>1.000800</td>\n",
       "    </tr>\n",
       "  </tbody>\n",
       "</table>\n",
       "</div>"
      ],
      "text/plain": [
       "                B6           B8          B12          B13          B14  \\\n",
       "count  1396.000000  1395.000000  1395.000000  1395.000000  1396.000000   \n",
       "mean     72.065186    43.709677  1020.215054     0.149419   410.403295   \n",
       "std       9.161986     4.338396   205.920155     0.008213    26.018410   \n",
       "min      40.000000    20.000000   400.000000     0.030000    40.000000   \n",
       "25%      65.000000    45.000000   800.000000     0.150000   400.000000   \n",
       "50%      78.000000    45.000000  1200.000000     0.150000   400.000000   \n",
       "75%      80.000000    45.000000  1200.000000     0.150000   420.000000   \n",
       "max      80.000000    73.000000  1200.000000     0.150000   460.000000   \n",
       "\n",
       "                收率  \n",
       "count  1396.000000  \n",
       "mean      0.923244  \n",
       "std       0.030880  \n",
       "min       0.624000  \n",
       "25%       0.902000  \n",
       "50%       0.925000  \n",
       "75%       0.943000  \n",
       "max       1.000800  "
      ]
     },
     "execution_count": 93,
     "metadata": {},
     "output_type": "execute_result"
    }
   ],
   "source": [
    "df_train.iloc[:,34:45].describe()"
   ]
  },
  {
   "cell_type": "markdown",
   "metadata": {},
   "source": [
    "## 相关性分析"
   ]
  },
  {
   "cell_type": "code",
   "execution_count": 4,
   "metadata": {},
   "outputs": [
    {
     "data": {
      "text/plain": [
       "<matplotlib.axes._subplots.AxesSubplot at 0x10ec18e80>"
      ]
     },
     "execution_count": 4,
     "metadata": {},
     "output_type": "execute_result"
    },
    {
     "data": {
      "image/png": "[encoded data removed]",
      "text/plain": [
       "<Figure size 864x648 with 2 Axes>"
      ]
     },
     "metadata": {
      "needs_background": "light"
     },
     "output_type": "display_data"
    }
   ],
   "source": [
    "## 相关性矩阵\n",
    "corrmat = df_train.corr()\n",
    "f, ax = plt.subplots(figsize=(12,9))\n",
    "sns.heatmap(corrmat, vmax = 1, square = True)"
   ]
  },
  {
   "cell_type": "code",
   "execution_count": 97,
   "metadata": {},
   "outputs": [
    {
     "data": {
      "text/plain": [
       "<matplotlib.axes._subplots.AxesSubplot at 0x10b32cb38>"
      ]
     },
     "execution_count": 97,
     "metadata": {},
     "output_type": "execute_result"
    },
    {
     "data": {
      "image/png": "[encoded data removed]",
      "text/plain": [
       "<Figure size 432x288 with 1 Axes>"
      ]
     },
     "metadata": {
      "needs_background": "light"
     },
     "output_type": "display_data"
    }
   ],
   "source": [
    "data = pd.concat([df_train['收率'], df_train['A1']], axis = 1)\n",
    "data.plot.scatter(x = 'A1', y = '收率', ylim = (0.6,1.1))"
   ]
  },
  {
   "cell_type": "code",
   "execution_count": 101,
   "metadata": {},
   "outputs": [
    {
     "data": {
      "text/plain": [
       "<matplotlib.axes._subplots.AxesSubplot at 0x10dce5550>"
      ]
     },
     "execution_count": 101,
     "metadata": {},
     "output_type": "execute_result"
    },
    {
     "data": {
      "image/png": "[encoded data removed]",
      "text/plain": [
       "<Figure size 432x288 with 1 Axes>"
      ]
     },
     "metadata": {
      "needs_background": "light"
     },
     "output_type": "display_data"
    }
   ],
   "source": [
    "data = pd.concat([df_train['收率'], df_train['A3']], axis = 1)\n",
    "data.plot.scatter(x = 'A3', y = '收率', ylim = (0.6,1.1))"
   ]
  },
  {
   "cell_type": "code",
   "execution_count": 102,
   "metadata": {},
   "outputs": [
    {
     "data": {
      "text/plain": [
       "<matplotlib.axes._subplots.AxesSubplot at 0x10ddcb748>"
      ]
     },
     "execution_count": 102,
     "metadata": {},
     "output_type": "execute_result"
    },
    {
     "data": {
      "image/png": "[encoded data removed]",
      "text/plain": [
       "<Figure size 432x288 with 1 Axes>"
      ]
     },
     "metadata": {
      "needs_background": "light"
     },
     "output_type": "display_data"
    }
   ],
   "source": [
    "data = pd.concat([df_train['A3'], df_train['A1']], axis = 1)\n",
    "data.plot.scatter(x = 'A1', y = 'A3', ylim = (0, 500))"
   ]
  },
  {
   "cell_type": "code",
   "execution_count": 103,
   "metadata": {},
   "outputs": [
    {
     "data": {
      "text/plain": [
       "<matplotlib.axes._subplots.AxesSubplot at 0x10de8ec18>"
      ]
     },
     "execution_count": 103,
     "metadata": {},
     "output_type": "execute_result"
    },
    {
     "data": {
      "image/png": "[encoded data removed]",
      "text/plain": [
       "<Figure size 864x648 with 2 Axes>"
      ]
     },
     "metadata": {
      "needs_background": "light"
     },
     "output_type": "display_data"
    }
   ],
   "source": []
  },
  {
   "cell_type": "markdown",
   "metadata": {},
   "source": [
    "## 处理后v1版本数据分析"
   ]
  },
  {
   "cell_type": "code",
   "execution_count": 12,
   "metadata": {},
   "outputs": [],
   "source": [
    "df_train = pd.read_csv('../data/train_data_v1.csv')"
   ]
  },
  {
   "cell_type": "code",
   "execution_count": 13,
   "metadata": {},
   "outputs": [
    {
     "data": {
      "text/html": [
       "<div>\n",
       "<style scoped>\n",
       "    .dataframe tbody tr th:only-of-type {\n",
       "        vertical-align: middle;\n",
       "    }\n",
       "\n",
       "    .dataframe tbody tr th {\n",
       "        vertical-align: top;\n",
       "    }\n",
       "\n",
       "    .dataframe thead th {\n",
       "        text-align: right;\n",
       "    }\n",
       "</style>\n",
       "<table border=\"1\" class=\"dataframe\">\n",
       "  <thead>\n",
       "    <tr style=\"text-align: right;\">\n",
       "      <th></th>\n",
       "      <th>B1</th>\n",
       "      <th>B2</th>\n",
       "      <th>B3</th>\n",
       "      <th>B6</th>\n",
       "      <th>B8</th>\n",
       "      <th>B12</th>\n",
       "      <th>B13</th>\n",
       "      <th>B14</th>\n",
       "      <th>收率</th>\n",
       "      <th>A7-A5</th>\n",
       "      <th>A9-A7</th>\n",
       "      <th>A11-A9</th>\n",
       "      <th>A14-A11</th>\n",
       "      <th>A16-A14</th>\n",
       "      <th>A20s-A16</th>\n",
       "      <th>A20e-A20s</th>\n",
       "    </tr>\n",
       "  </thead>\n",
       "  <tbody>\n",
       "    <tr>\n",
       "      <th>count</th>\n",
       "      <td>1386.000000</td>\n",
       "      <td>1394.000000</td>\n",
       "      <td>1394.000000</td>\n",
       "      <td>1396.000000</td>\n",
       "      <td>1395.000000</td>\n",
       "      <td>1395.000000</td>\n",
       "      <td>1395.000000</td>\n",
       "      <td>1396.000000</td>\n",
       "      <td>1396.000000</td>\n",
       "      <td>1396.000000</td>\n",
       "      <td>1396.000000</td>\n",
       "      <td>1396.000000</td>\n",
       "      <td>1396.000000</td>\n",
       "      <td>1396.000000</td>\n",
       "      <td>1396.000000</td>\n",
       "      <td>1396.000000</td>\n",
       "    </tr>\n",
       "    <tr>\n",
       "      <th>mean</th>\n",
       "      <td>334.452742</td>\n",
       "      <td>3.454412</td>\n",
       "      <td>3.500072</td>\n",
       "      <td>72.065186</td>\n",
       "      <td>43.709677</td>\n",
       "      <td>1020.215054</td>\n",
       "      <td>0.149419</td>\n",
       "      <td>410.403295</td>\n",
       "      <td>0.923244</td>\n",
       "      <td>10.203489</td>\n",
       "      <td>10.322777</td>\n",
       "      <td>1.110435</td>\n",
       "      <td>1.061844</td>\n",
       "      <td>1.021848</td>\n",
       "      <td>0.935468</td>\n",
       "      <td>0.816320</td>\n",
       "    </tr>\n",
       "    <tr>\n",
       "      <th>std</th>\n",
       "      <td>105.120753</td>\n",
       "      <td>0.388585</td>\n",
       "      <td>0.002678</td>\n",
       "      <td>9.161986</td>\n",
       "      <td>4.338396</td>\n",
       "      <td>205.920155</td>\n",
       "      <td>0.008213</td>\n",
       "      <td>26.018410</td>\n",
       "      <td>0.030880</td>\n",
       "      <td>7.157915</td>\n",
       "      <td>7.300943</td>\n",
       "      <td>1.361930</td>\n",
       "      <td>0.991158</td>\n",
       "      <td>0.511570</td>\n",
       "      <td>2.516743</td>\n",
       "      <td>0.591544</td>\n",
       "    </tr>\n",
       "    <tr>\n",
       "      <th>min</th>\n",
       "      <td>3.500000</td>\n",
       "      <td>0.150000</td>\n",
       "      <td>3.500000</td>\n",
       "      <td>40.000000</td>\n",
       "      <td>20.000000</td>\n",
       "      <td>400.000000</td>\n",
       "      <td>0.030000</td>\n",
       "      <td>40.000000</td>\n",
       "      <td>0.624000</td>\n",
       "      <td>0.000000</td>\n",
       "      <td>0.000000</td>\n",
       "      <td>0.000000</td>\n",
       "      <td>0.833333</td>\n",
       "      <td>0.500000</td>\n",
       "      <td>0.000000</td>\n",
       "      <td>0.000000</td>\n",
       "    </tr>\n",
       "    <tr>\n",
       "      <th>25%</th>\n",
       "      <td>320.000000</td>\n",
       "      <td>3.500000</td>\n",
       "      <td>3.500000</td>\n",
       "      <td>65.000000</td>\n",
       "      <td>45.000000</td>\n",
       "      <td>800.000000</td>\n",
       "      <td>0.150000</td>\n",
       "      <td>400.000000</td>\n",
       "      <td>0.902000</td>\n",
       "      <td>2.999722</td>\n",
       "      <td>3.000278</td>\n",
       "      <td>1.000000</td>\n",
       "      <td>1.000000</td>\n",
       "      <td>1.000000</td>\n",
       "      <td>0.000000</td>\n",
       "      <td>0.500000</td>\n",
       "    </tr>\n",
       "    <tr>\n",
       "      <th>50%</th>\n",
       "      <td>320.000000</td>\n",
       "      <td>3.500000</td>\n",
       "      <td>3.500000</td>\n",
       "      <td>78.000000</td>\n",
       "      <td>45.000000</td>\n",
       "      <td>1200.000000</td>\n",
       "      <td>0.150000</td>\n",
       "      <td>400.000000</td>\n",
       "      <td>0.925000</td>\n",
       "      <td>9.999722</td>\n",
       "      <td>8.000278</td>\n",
       "      <td>1.000000</td>\n",
       "      <td>1.000000</td>\n",
       "      <td>1.000000</td>\n",
       "      <td>0.000000</td>\n",
       "      <td>1.000000</td>\n",
       "    </tr>\n",
       "    <tr>\n",
       "      <th>75%</th>\n",
       "      <td>330.000000</td>\n",
       "      <td>3.500000</td>\n",
       "      <td>3.500000</td>\n",
       "      <td>80.000000</td>\n",
       "      <td>45.000000</td>\n",
       "      <td>1200.000000</td>\n",
       "      <td>0.150000</td>\n",
       "      <td>420.000000</td>\n",
       "      <td>0.943000</td>\n",
       "      <td>17.999722</td>\n",
       "      <td>16.000278</td>\n",
       "      <td>1.000000</td>\n",
       "      <td>1.000000</td>\n",
       "      <td>1.000000</td>\n",
       "      <td>0.500000</td>\n",
       "      <td>1.000000</td>\n",
       "    </tr>\n",
       "    <tr>\n",
       "      <th>max</th>\n",
       "      <td>1200.000000</td>\n",
       "      <td>3.600000</td>\n",
       "      <td>3.600000</td>\n",
       "      <td>80.000000</td>\n",
       "      <td>73.000000</td>\n",
       "      <td>1200.000000</td>\n",
       "      <td>0.150000</td>\n",
       "      <td>460.000000</td>\n",
       "      <td>1.000800</td>\n",
       "      <td>23.999722</td>\n",
       "      <td>23.500278</td>\n",
       "      <td>23.000000</td>\n",
       "      <td>21.000000</td>\n",
       "      <td>15.000000</td>\n",
       "      <td>23.500000</td>\n",
       "      <td>20.500000</td>\n",
       "    </tr>\n",
       "  </tbody>\n",
       "</table>\n",
       "</div>"
      ],
      "text/plain": [
       "                B1           B2           B3           B6           B8  \\\n",
       "count  1386.000000  1394.000000  1394.000000  1396.000000  1395.000000   \n",
       "mean    334.452742     3.454412     3.500072    72.065186    43.709677   \n",
       "std     105.120753     0.388585     0.002678     9.161986     4.338396   \n",
       "min       3.500000     0.150000     3.500000    40.000000    20.000000   \n",
       "25%     320.000000     3.500000     3.500000    65.000000    45.000000   \n",
       "50%     320.000000     3.500000     3.500000    78.000000    45.000000   \n",
       "75%     330.000000     3.500000     3.500000    80.000000    45.000000   \n",
       "max    1200.000000     3.600000     3.600000    80.000000    73.000000   \n",
       "\n",
       "               B12          B13          B14           收率        A7-A5  \\\n",
       "count  1395.000000  1395.000000  1396.000000  1396.000000  1396.000000   \n",
       "mean   1020.215054     0.149419   410.403295     0.923244    10.203489   \n",
       "std     205.920155     0.008213    26.018410     0.030880     7.157915   \n",
       "min     400.000000     0.030000    40.000000     0.624000     0.000000   \n",
       "25%     800.000000     0.150000   400.000000     0.902000     2.999722   \n",
       "50%    1200.000000     0.150000   400.000000     0.925000     9.999722   \n",
       "75%    1200.000000     0.150000   420.000000     0.943000    17.999722   \n",
       "max    1200.000000     0.150000   460.000000     1.000800    23.999722   \n",
       "\n",
       "             A9-A7       A11-A9      A14-A11      A16-A14     A20s-A16  \\\n",
       "count  1396.000000  1396.000000  1396.000000  1396.000000  1396.000000   \n",
       "mean     10.322777     1.110435     1.061844     1.021848     0.935468   \n",
       "std       7.300943     1.361930     0.991158     0.511570     2.516743   \n",
       "min       0.000000     0.000000     0.833333     0.500000     0.000000   \n",
       "25%       3.000278     1.000000     1.000000     1.000000     0.000000   \n",
       "50%       8.000278     1.000000     1.000000     1.000000     0.000000   \n",
       "75%      16.000278     1.000000     1.000000     1.000000     0.500000   \n",
       "max      23.500278    23.000000    21.000000    15.000000    23.500000   \n",
       "\n",
       "         A20e-A20s  \n",
       "count  1396.000000  \n",
       "mean      0.816320  \n",
       "std       0.591544  \n",
       "min       0.000000  \n",
       "25%       0.500000  \n",
       "50%       1.000000  \n",
       "75%       1.000000  \n",
       "max      20.500000  "
      ]
     },
     "execution_count": 13,
     "metadata": {},
     "output_type": "execute_result"
    }
   ],
   "source": [
    "df_train.iloc[:,18:34].describe()"
   ]
  },
  {
   "cell_type": "code",
   "execution_count": 14,
   "metadata": {},
   "outputs": [
    {
     "data": {
      "text/html": [
       "<div>\n",
       "<style scoped>\n",
       "    .dataframe tbody tr th:only-of-type {\n",
       "        vertical-align: middle;\n",
       "    }\n",
       "\n",
       "    .dataframe tbody tr th {\n",
       "        vertical-align: top;\n",
       "    }\n",
       "\n",
       "    .dataframe thead th {\n",
       "        text-align: right;\n",
       "    }\n",
       "</style>\n",
       "<table border=\"1\" class=\"dataframe\">\n",
       "  <thead>\n",
       "    <tr style=\"text-align: right;\">\n",
       "      <th></th>\n",
       "      <th>A26-A24</th>\n",
       "      <th>A28s-A26</th>\n",
       "      <th>A28e-A28s</th>\n",
       "      <th>B4s-A28e</th>\n",
       "      <th>B4e-B4s</th>\n",
       "    </tr>\n",
       "  </thead>\n",
       "  <tbody>\n",
       "    <tr>\n",
       "      <th>count</th>\n",
       "      <td>1396.000000</td>\n",
       "      <td>1396.000000</td>\n",
       "      <td>1396.000000</td>\n",
       "      <td>1396.000000</td>\n",
       "      <td>1396.000000</td>\n",
       "    </tr>\n",
       "    <tr>\n",
       "      <th>mean</th>\n",
       "      <td>0.815317</td>\n",
       "      <td>2.316488</td>\n",
       "      <td>0.957259</td>\n",
       "      <td>0.599150</td>\n",
       "      <td>1.164064</td>\n",
       "    </tr>\n",
       "    <tr>\n",
       "      <th>std</th>\n",
       "      <td>0.700966</td>\n",
       "      <td>3.764691</td>\n",
       "      <td>0.640639</td>\n",
       "      <td>2.983737</td>\n",
       "      <td>0.675425</td>\n",
       "    </tr>\n",
       "    <tr>\n",
       "      <th>min</th>\n",
       "      <td>0.000000</td>\n",
       "      <td>0.000000</td>\n",
       "      <td>0.333333</td>\n",
       "      <td>0.000000</td>\n",
       "      <td>0.000000</td>\n",
       "    </tr>\n",
       "    <tr>\n",
       "      <th>25%</th>\n",
       "      <td>0.500000</td>\n",
       "      <td>0.000000</td>\n",
       "      <td>1.000000</td>\n",
       "      <td>0.000000</td>\n",
       "      <td>1.000000</td>\n",
       "    </tr>\n",
       "    <tr>\n",
       "      <th>50%</th>\n",
       "      <td>1.000000</td>\n",
       "      <td>0.000000</td>\n",
       "      <td>1.000000</td>\n",
       "      <td>0.000000</td>\n",
       "      <td>1.000000</td>\n",
       "    </tr>\n",
       "    <tr>\n",
       "      <th>75%</th>\n",
       "      <td>1.000000</td>\n",
       "      <td>5.500000</td>\n",
       "      <td>1.000000</td>\n",
       "      <td>0.000000</td>\n",
       "      <td>1.000000</td>\n",
       "    </tr>\n",
       "    <tr>\n",
       "      <th>max</th>\n",
       "      <td>20.500000</td>\n",
       "      <td>23.666667</td>\n",
       "      <td>22.500000</td>\n",
       "      <td>23.999722</td>\n",
       "      <td>23.000000</td>\n",
       "    </tr>\n",
       "  </tbody>\n",
       "</table>\n",
       "</div>"
      ],
      "text/plain": [
       "           A26-A24     A28s-A26    A28e-A28s     B4s-A28e      B4e-B4s\n",
       "count  1396.000000  1396.000000  1396.000000  1396.000000  1396.000000\n",
       "mean      0.815317     2.316488     0.957259     0.599150     1.164064\n",
       "std       0.700966     3.764691     0.640639     2.983737     0.675425\n",
       "min       0.000000     0.000000     0.333333     0.000000     0.000000\n",
       "25%       0.500000     0.000000     1.000000     0.000000     1.000000\n",
       "50%       1.000000     0.000000     1.000000     0.000000     1.000000\n",
       "75%       1.000000     5.500000     1.000000     0.000000     1.000000\n",
       "max      20.500000    23.666667    22.500000    23.999722    23.000000"
      ]
     },
     "execution_count": 14,
     "metadata": {},
     "output_type": "execute_result"
    }
   ],
   "source": [
    "df_train.iloc[:,35:40].describe()"
   ]
  },
  {
   "cell_type": "code",
   "execution_count": 17,
   "metadata": {},
   "outputs": [
    {
     "data": {
      "text/html": [
       "<div>\n",
       "<style scoped>\n",
       "    .dataframe tbody tr th:only-of-type {\n",
       "        vertical-align: middle;\n",
       "    }\n",
       "\n",
       "    .dataframe tbody tr th {\n",
       "        vertical-align: top;\n",
       "    }\n",
       "\n",
       "    .dataframe thead th {\n",
       "        text-align: right;\n",
       "    }\n",
       "</style>\n",
       "<table border=\"1\" class=\"dataframe\">\n",
       "  <thead>\n",
       "    <tr style=\"text-align: right;\">\n",
       "      <th></th>\n",
       "      <th>Feature</th>\n",
       "      <th>Unique_values</th>\n",
       "      <th>Percentage of missing values</th>\n",
       "      <th>Percentage of values in the biggest category</th>\n",
       "      <th>type</th>\n",
       "    </tr>\n",
       "  </thead>\n",
       "  <tbody>\n",
       "    <tr>\n",
       "      <th>0</th>\n",
       "      <td>样本id</td>\n",
       "      <td>1396</td>\n",
       "      <td>0.000000</td>\n",
       "      <td>0.071633</td>\n",
       "      <td>object</td>\n",
       "    </tr>\n",
       "    <tr>\n",
       "      <th>28</th>\n",
       "      <td>A9-A7</td>\n",
       "      <td>87</td>\n",
       "      <td>0.000000</td>\n",
       "      <td>17.979943</td>\n",
       "      <td>float64</td>\n",
       "    </tr>\n",
       "    <tr>\n",
       "      <th>46</th>\n",
       "      <td>B11s-B10e</td>\n",
       "      <td>83</td>\n",
       "      <td>0.000000</td>\n",
       "      <td>56.518625</td>\n",
       "      <td>float64</td>\n",
       "    </tr>\n",
       "    <tr>\n",
       "      <th>26</th>\n",
       "      <td>收率</td>\n",
       "      <td>73</td>\n",
       "      <td>0.000000</td>\n",
       "      <td>21.848138</td>\n",
       "      <td>float64</td>\n",
       "    </tr>\n",
       "    <tr>\n",
       "      <th>4</th>\n",
       "      <td>A5</td>\n",
       "      <td>66</td>\n",
       "      <td>0.000000</td>\n",
       "      <td>19.269341</td>\n",
       "      <td>int64</td>\n",
       "    </tr>\n",
       "    <tr>\n",
       "      <th>32</th>\n",
       "      <td>A20s-A16</td>\n",
       "      <td>66</td>\n",
       "      <td>0.000000</td>\n",
       "      <td>64.255014</td>\n",
       "      <td>float64</td>\n",
       "    </tr>\n",
       "    <tr>\n",
       "      <th>27</th>\n",
       "      <td>A7-A5</td>\n",
       "      <td>66</td>\n",
       "      <td>0.000000</td>\n",
       "      <td>18.767908</td>\n",
       "      <td>float64</td>\n",
       "    </tr>\n",
       "    <tr>\n",
       "      <th>44</th>\n",
       "      <td>B10s-B9e</td>\n",
       "      <td>52</td>\n",
       "      <td>0.000000</td>\n",
       "      <td>40.830946</td>\n",
       "      <td>float64</td>\n",
       "    </tr>\n",
       "    <tr>\n",
       "      <th>36</th>\n",
       "      <td>A28s-A26</td>\n",
       "      <td>50</td>\n",
       "      <td>0.000000</td>\n",
       "      <td>66.905444</td>\n",
       "      <td>float64</td>\n",
       "    </tr>\n",
       "    <tr>\n",
       "      <th>41</th>\n",
       "      <td>B7-B5</td>\n",
       "      <td>42</td>\n",
       "      <td>0.000000</td>\n",
       "      <td>64.541547</td>\n",
       "      <td>float64</td>\n",
       "    </tr>\n",
       "    <tr>\n",
       "      <th>5</th>\n",
       "      <td>A6</td>\n",
       "      <td>39</td>\n",
       "      <td>0.000000</td>\n",
       "      <td>35.315186</td>\n",
       "      <td>float64</td>\n",
       "    </tr>\n",
       "    <tr>\n",
       "      <th>21</th>\n",
       "      <td>B6</td>\n",
       "      <td>36</td>\n",
       "      <td>0.000000</td>\n",
       "      <td>45.845272</td>\n",
       "      <td>int64</td>\n",
       "    </tr>\n",
       "    <tr>\n",
       "      <th>42</th>\n",
       "      <td>B9s-B7</td>\n",
       "      <td>36</td>\n",
       "      <td>0.000000</td>\n",
       "      <td>78.008596</td>\n",
       "      <td>float64</td>\n",
       "    </tr>\n",
       "    <tr>\n",
       "      <th>38</th>\n",
       "      <td>B4s-A28e</td>\n",
       "      <td>34</td>\n",
       "      <td>0.000000</td>\n",
       "      <td>90.616046</td>\n",
       "      <td>float64</td>\n",
       "    </tr>\n",
       "    <tr>\n",
       "      <th>34</th>\n",
       "      <td>A24-A20e</td>\n",
       "      <td>33</td>\n",
       "      <td>0.000000</td>\n",
       "      <td>70.487106</td>\n",
       "      <td>float64</td>\n",
       "    </tr>\n",
       "    <tr>\n",
       "      <th>22</th>\n",
       "      <td>B8</td>\n",
       "      <td>25</td>\n",
       "      <td>0.071633</td>\n",
       "      <td>77.722063</td>\n",
       "      <td>float64</td>\n",
       "    </tr>\n",
       "    <tr>\n",
       "      <th>40</th>\n",
       "      <td>B5-B4e</td>\n",
       "      <td>22</td>\n",
       "      <td>0.000000</td>\n",
       "      <td>97.277937</td>\n",
       "      <td>float64</td>\n",
       "    </tr>\n",
       "    <tr>\n",
       "      <th>25</th>\n",
       "      <td>B14</td>\n",
       "      <td>21</td>\n",
       "      <td>0.000000</td>\n",
       "      <td>53.008596</td>\n",
       "      <td>int64</td>\n",
       "    </tr>\n",
       "    <tr>\n",
       "      <th>18</th>\n",
       "      <td>B1</td>\n",
       "      <td>21</td>\n",
       "      <td>0.716332</td>\n",
       "      <td>53.796562</td>\n",
       "      <td>float64</td>\n",
       "    </tr>\n",
       "    <tr>\n",
       "      <th>29</th>\n",
       "      <td>A11-A9</td>\n",
       "      <td>19</td>\n",
       "      <td>0.000000</td>\n",
       "      <td>97.707736</td>\n",
       "      <td>float64</td>\n",
       "    </tr>\n",
       "    <tr>\n",
       "      <th>43</th>\n",
       "      <td>B9e-B9s</td>\n",
       "      <td>18</td>\n",
       "      <td>0.000000</td>\n",
       "      <td>72.421203</td>\n",
       "      <td>float64</td>\n",
       "    </tr>\n",
       "    <tr>\n",
       "      <th>45</th>\n",
       "      <td>B10e-B10s</td>\n",
       "      <td>17</td>\n",
       "      <td>0.000000</td>\n",
       "      <td>68.624642</td>\n",
       "      <td>float64</td>\n",
       "    </tr>\n",
       "    <tr>\n",
       "      <th>35</th>\n",
       "      <td>A26-A24</td>\n",
       "      <td>17</td>\n",
       "      <td>0.000000</td>\n",
       "      <td>55.300860</td>\n",
       "      <td>float64</td>\n",
       "    </tr>\n",
       "    <tr>\n",
       "      <th>39</th>\n",
       "      <td>B4e-B4s</td>\n",
       "      <td>15</td>\n",
       "      <td>0.000000</td>\n",
       "      <td>75.429799</td>\n",
       "      <td>float64</td>\n",
       "    </tr>\n",
       "    <tr>\n",
       "      <th>37</th>\n",
       "      <td>A28e-A28s</td>\n",
       "      <td>15</td>\n",
       "      <td>0.000000</td>\n",
       "      <td>82.521490</td>\n",
       "      <td>float64</td>\n",
       "    </tr>\n",
       "    <tr>\n",
       "      <th>16</th>\n",
       "      <td>A25</td>\n",
       "      <td>14</td>\n",
       "      <td>0.000000</td>\n",
       "      <td>38.825215</td>\n",
       "      <td>int64</td>\n",
       "    </tr>\n",
       "    <tr>\n",
       "      <th>17</th>\n",
       "      <td>A27</td>\n",
       "      <td>13</td>\n",
       "      <td>0.000000</td>\n",
       "      <td>45.128940</td>\n",
       "      <td>int64</td>\n",
       "    </tr>\n",
       "    <tr>\n",
       "      <th>10</th>\n",
       "      <td>A17</td>\n",
       "      <td>13</td>\n",
       "      <td>0.000000</td>\n",
       "      <td>49.283668</td>\n",
       "      <td>float64</td>\n",
       "    </tr>\n",
       "    <tr>\n",
       "      <th>13</th>\n",
       "      <td>A21</td>\n",
       "      <td>12</td>\n",
       "      <td>0.214900</td>\n",
       "      <td>89.828080</td>\n",
       "      <td>float64</td>\n",
       "    </tr>\n",
       "    <tr>\n",
       "      <th>33</th>\n",
       "      <td>A20e-A20s</td>\n",
       "      <td>11</td>\n",
       "      <td>0.000000</td>\n",
       "      <td>60.028653</td>\n",
       "      <td>float64</td>\n",
       "    </tr>\n",
       "    <tr>\n",
       "      <th>9</th>\n",
       "      <td>A15</td>\n",
       "      <td>10</td>\n",
       "      <td>0.000000</td>\n",
       "      <td>49.785100</td>\n",
       "      <td>float64</td>\n",
       "    </tr>\n",
       "    <tr>\n",
       "      <th>30</th>\n",
       "      <td>A14-A11</td>\n",
       "      <td>10</td>\n",
       "      <td>0.000000</td>\n",
       "      <td>99.140401</td>\n",
       "      <td>float64</td>\n",
       "    </tr>\n",
       "    <tr>\n",
       "      <th>47</th>\n",
       "      <td>B11e-B11s</td>\n",
       "      <td>9</td>\n",
       "      <td>0.000000</td>\n",
       "      <td>60.816619</td>\n",
       "      <td>float64</td>\n",
       "    </tr>\n",
       "    <tr>\n",
       "      <th>7</th>\n",
       "      <td>A12</td>\n",
       "      <td>9</td>\n",
       "      <td>0.000000</td>\n",
       "      <td>48.997135</td>\n",
       "      <td>int64</td>\n",
       "    </tr>\n",
       "    <tr>\n",
       "      <th>31</th>\n",
       "      <td>A16-A14</td>\n",
       "      <td>8</td>\n",
       "      <td>0.000000</td>\n",
       "      <td>99.426934</td>\n",
       "      <td>float64</td>\n",
       "    </tr>\n",
       "    <tr>\n",
       "      <th>12</th>\n",
       "      <td>A19</td>\n",
       "      <td>6</td>\n",
       "      <td>0.000000</td>\n",
       "      <td>64.899713</td>\n",
       "      <td>int64</td>\n",
       "    </tr>\n",
       "    <tr>\n",
       "      <th>23</th>\n",
       "      <td>B12</td>\n",
       "      <td>4</td>\n",
       "      <td>0.071633</td>\n",
       "      <td>55.659026</td>\n",
       "      <td>float64</td>\n",
       "    </tr>\n",
       "    <tr>\n",
       "      <th>14</th>\n",
       "      <td>A22</td>\n",
       "      <td>4</td>\n",
       "      <td>0.000000</td>\n",
       "      <td>87.106017</td>\n",
       "      <td>float64</td>\n",
       "    </tr>\n",
       "    <tr>\n",
       "      <th>6</th>\n",
       "      <td>A10</td>\n",
       "      <td>4</td>\n",
       "      <td>0.000000</td>\n",
       "      <td>47.134670</td>\n",
       "      <td>int64</td>\n",
       "    </tr>\n",
       "    <tr>\n",
       "      <th>3</th>\n",
       "      <td>A4</td>\n",
       "      <td>4</td>\n",
       "      <td>0.000000</td>\n",
       "      <td>95.702006</td>\n",
       "      <td>int64</td>\n",
       "    </tr>\n",
       "    <tr>\n",
       "      <th>1</th>\n",
       "      <td>A1</td>\n",
       "      <td>3</td>\n",
       "      <td>0.000000</td>\n",
       "      <td>98.638968</td>\n",
       "      <td>int64</td>\n",
       "    </tr>\n",
       "    <tr>\n",
       "      <th>19</th>\n",
       "      <td>B2</td>\n",
       "      <td>3</td>\n",
       "      <td>0.143266</td>\n",
       "      <td>98.424069</td>\n",
       "      <td>float64</td>\n",
       "    </tr>\n",
       "    <tr>\n",
       "      <th>15</th>\n",
       "      <td>A23</td>\n",
       "      <td>3</td>\n",
       "      <td>0.214900</td>\n",
       "      <td>99.641834</td>\n",
       "      <td>float64</td>\n",
       "    </tr>\n",
       "    <tr>\n",
       "      <th>8</th>\n",
       "      <td>A13</td>\n",
       "      <td>3</td>\n",
       "      <td>0.000000</td>\n",
       "      <td>99.856734</td>\n",
       "      <td>float64</td>\n",
       "    </tr>\n",
       "    <tr>\n",
       "      <th>2</th>\n",
       "      <td>A3</td>\n",
       "      <td>3</td>\n",
       "      <td>3.008596</td>\n",
       "      <td>95.702006</td>\n",
       "      <td>float64</td>\n",
       "    </tr>\n",
       "    <tr>\n",
       "      <th>24</th>\n",
       "      <td>B13</td>\n",
       "      <td>3</td>\n",
       "      <td>0.071633</td>\n",
       "      <td>99.426934</td>\n",
       "      <td>float64</td>\n",
       "    </tr>\n",
       "    <tr>\n",
       "      <th>20</th>\n",
       "      <td>B3</td>\n",
       "      <td>2</td>\n",
       "      <td>0.143266</td>\n",
       "      <td>99.785100</td>\n",
       "      <td>float64</td>\n",
       "    </tr>\n",
       "    <tr>\n",
       "      <th>11</th>\n",
       "      <td>A18</td>\n",
       "      <td>2</td>\n",
       "      <td>0.000000</td>\n",
       "      <td>99.928367</td>\n",
       "      <td>float64</td>\n",
       "    </tr>\n",
       "  </tbody>\n",
       "</table>\n",
       "</div>"
      ],
      "text/plain": [
       "      Feature  Unique_values  Percentage of missing values  \\\n",
       "0        样本id           1396                      0.000000   \n",
       "28      A9-A7             87                      0.000000   \n",
       "46  B11s-B10e             83                      0.000000   \n",
       "26         收率             73                      0.000000   \n",
       "4          A5             66                      0.000000   \n",
       "32   A20s-A16             66                      0.000000   \n",
       "27      A7-A5             66                      0.000000   \n",
       "44   B10s-B9e             52                      0.000000   \n",
       "36   A28s-A26             50                      0.000000   \n",
       "41      B7-B5             42                      0.000000   \n",
       "5          A6             39                      0.000000   \n",
       "21         B6             36                      0.000000   \n",
       "42     B9s-B7             36                      0.000000   \n",
       "38   B4s-A28e             34                      0.000000   \n",
       "34   A24-A20e             33                      0.000000   \n",
       "22         B8             25                      0.071633   \n",
       "40     B5-B4e             22                      0.000000   \n",
       "25        B14             21                      0.000000   \n",
       "18         B1             21                      0.716332   \n",
       "29     A11-A9             19                      0.000000   \n",
       "43    B9e-B9s             18                      0.000000   \n",
       "45  B10e-B10s             17                      0.000000   \n",
       "35    A26-A24             17                      0.000000   \n",
       "39    B4e-B4s             15                      0.000000   \n",
       "37  A28e-A28s             15                      0.000000   \n",
       "16        A25             14                      0.000000   \n",
       "17        A27             13                      0.000000   \n",
       "10        A17             13                      0.000000   \n",
       "13        A21             12                      0.214900   \n",
       "33  A20e-A20s             11                      0.000000   \n",
       "9         A15             10                      0.000000   \n",
       "30    A14-A11             10                      0.000000   \n",
       "47  B11e-B11s              9                      0.000000   \n",
       "7         A12              9                      0.000000   \n",
       "31    A16-A14              8                      0.000000   \n",
       "12        A19              6                      0.000000   \n",
       "23        B12              4                      0.071633   \n",
       "14        A22              4                      0.000000   \n",
       "6         A10              4                      0.000000   \n",
       "3          A4              4                      0.000000   \n",
       "1          A1              3                      0.000000   \n",
       "19         B2              3                      0.143266   \n",
       "15        A23              3                      0.214900   \n",
       "8         A13              3                      0.000000   \n",
       "2          A3              3                      3.008596   \n",
       "24        B13              3                      0.071633   \n",
       "20         B3              2                      0.143266   \n",
       "11        A18              2                      0.000000   \n",
       "\n",
       "    Percentage of values in the biggest category     type  \n",
       "0                                       0.071633   object  \n",
       "28                                     17.979943  float64  \n",
       "46                                     56.518625  float64  \n",
       "26                                     21.848138  float64  \n",
       "4                                      19.269341    int64  \n",
       "32                                     64.255014  float64  \n",
       "27                                     18.767908  float64  \n",
       "44                                     40.830946  float64  \n",
       "36                                     66.905444  float64  \n",
       "41                                     64.541547  float64  \n",
       "5                                      35.315186  float64  \n",
       "21                                     45.845272    int64  \n",
       "42                                     78.008596  float64  \n",
       "38                                     90.616046  float64  \n",
       "34                                     70.487106  float64  \n",
       "22                                     77.722063  float64  \n",
       "40                                     97.277937  float64  \n",
       "25                                     53.008596    int64  \n",
       "18                                     53.796562  float64  \n",
       "29                                     97.707736  float64  \n",
       "43                                     72.421203  float64  \n",
       "45                                     68.624642  float64  \n",
       "35                                     55.300860  float64  \n",
       "39                                     75.429799  float64  \n",
       "37                                     82.521490  float64  \n",
       "16                                     38.825215    int64  \n",
       "17                                     45.128940    int64  \n",
       "10                                     49.283668  float64  \n",
       "13                                     89.828080  float64  \n",
       "33                                     60.028653  float64  \n",
       "9                                      49.785100  float64  \n",
       "30                                     99.140401  float64  \n",
       "47                                     60.816619  float64  \n",
       "7                                      48.997135    int64  \n",
       "31                                     99.426934  float64  \n",
       "12                                     64.899713    int64  \n",
       "23                                     55.659026  float64  \n",
       "14                                     87.106017  float64  \n",
       "6                                      47.134670    int64  \n",
       "3                                      95.702006    int64  \n",
       "1                                      98.638968    int64  \n",
       "19                                     98.424069  float64  \n",
       "15                                     99.641834  float64  \n",
       "8                                      99.856734  float64  \n",
       "2                                      95.702006  float64  \n",
       "24                                     99.426934  float64  \n",
       "20                                     99.785100  float64  \n",
       "11                                     99.928367  float64  "
      ]
     },
     "execution_count": 17,
     "metadata": {},
     "output_type": "execute_result"
    }
   ],
   "source": [
    "stats = []\n",
    "for col in df_train.columns:\n",
    "    stats.append((col, df_train[col].nunique(), df_train[col].isnull().sum() * 100 / df_train.shape[0], df_train[col].value_counts(normalize=True, dropna=False).values[0] * 100, df_train[col].dtype))\n",
    "    \n",
    "stats_df = pd.DataFrame(stats, columns=['Feature', 'Unique_values', 'Percentage of missing values', 'Percentage of values in the biggest category', 'type'])\n",
    "stats_df.sort_values('Unique_values', ascending=False)[:]"
   ]
  },
  {
   "cell_type": "code",
   "execution_count": 19,
   "metadata": {},
   "outputs": [],
   "source": [
    "train_data = pd.read_csv('../data/train_data_time.csv')"
   ]
  },
  {
   "cell_type": "code",
   "execution_count": 23,
   "metadata": {},
   "outputs": [
    {
     "data": {
      "text/plain": [
       "count    1396.000000\n",
       "mean      298.853868\n",
       "std        10.130552\n",
       "min       200.000000\n",
       "25%       300.000000\n",
       "50%       300.000000\n",
       "75%       300.000000\n",
       "max       300.000000\n",
       "Name: A1, dtype: float64"
      ]
     },
     "execution_count": 23,
     "metadata": {},
     "output_type": "execute_result"
    }
   ],
   "source": [
    "train_data['A1'].describe()"
   ]
  },
  {
   "cell_type": "markdown",
   "metadata": {},
   "source": [
    "## 特征重要度"
   ]
  },
  {
   "cell_type": "code",
   "execution_count": 7,
   "metadata": {},
   "outputs": [],
   "source": [
    "from sklearn.datasets import load_boston\n",
    "from sklearn.ensemble import RandomForestRegressor\n",
    "from sklearn.feature_selection import SelectFromModel\n",
    "from sklearn.linear_model import LogisticRegression\n",
    "import seaborn as sns"
   ]
  },
  {
   "cell_type": "code",
   "execution_count": 14,
   "metadata": {},
   "outputs": [
    {
     "name": "stdout",
     "output_type": "stream",
     "text": [
      "(1396, 33)\n"
     ]
    }
   ],
   "source": [
    "boston = pd.read_csv('../data/train_data_ori.csv')\n",
    "test = pd.read_csv('../data/testA_data_ori.csv')\n",
    "test = test.drop(['样本id'],axis=1)\n",
    "boston = boston.drop(['样本id'],axis=1)\n",
    "boston = boston.fillna(-1)\n",
    "cols = [f for f in boston.columns if f != '收率']\n",
    "X = boston[cols]\n",
    "Y = boston[\"收率\"]\n",
    "print(boston.shape)"
   ]
  },
  {
   "cell_type": "code",
   "execution_count": 6,
   "metadata": {},
   "outputs": [
    {
     "name": "stdout",
     "output_type": "stream",
     "text": [
      "Features sorted by their score:\n",
      "[(0.1381, 'A15'), (0.1323, 'A7'), (0.0554, 'A9'), (0.0545, 'B5'), (0.0533, 'B14'), (0.05, 'B6'), (0.0493, 'B7'), (0.0456, 'A6'), (0.0429, 'A25'), (0.0362, 'A21'), (0.0361, 'B10'), (0.0312, 'A16'), (0.0253, 'A20'), (0.0232, 'A11'), (0.0231, 'A27'), (0.0217, 'A26'), (0.021, 'A17'), (0.0193, 'A28'), (0.019, 'A10'), (0.0183, 'B9'), (0.0175, 'A8'), (0.0142, 'B11'), (0.0135, 'A24'), (0.0118, 'A14'), (0.01, 'A12'), (0.0096, 'B4'), (0.0094, 'B1'), (0.0092, 'A19'), (0.0073, 'B8'), (0.0013, 'A5'), (0.0002, 'A22'), (0.0001, 'B12')]\n"
     ]
    }
   ],
   "source": [
    "## 随即森林特征重要度计算\n",
    "rf = RandomForestRegressor()\n",
    "rf.fit(X, Y)\n",
    "print (\"Features sorted by their score:\")\n",
    "print (sorted(zip(map(lambda x: round(x, 4), rf.feature_importances_), cols), \n",
    "             reverse=True))"
   ]
  },
  {
   "cell_type": "code",
   "execution_count": 10,
   "metadata": {},
   "outputs": [],
   "source": [
    "data_all = pd.concat([boston, test], axis=0, ignore_index=True)"
   ]
  },
  {
   "cell_type": "code",
   "execution_count": 11,
   "metadata": {},
   "outputs": [
    {
     "data": {
      "text/html": [
       "<div>\n",
       "<style scoped>\n",
       "    .dataframe tbody tr th:only-of-type {\n",
       "        vertical-align: middle;\n",
       "    }\n",
       "\n",
       "    .dataframe tbody tr th {\n",
       "        vertical-align: top;\n",
       "    }\n",
       "\n",
       "    .dataframe thead th {\n",
       "        text-align: right;\n",
       "    }\n",
       "</style>\n",
       "<table border=\"1\" class=\"dataframe\">\n",
       "  <thead>\n",
       "    <tr style=\"text-align: right;\">\n",
       "      <th></th>\n",
       "      <th>A10</th>\n",
       "      <th>A11</th>\n",
       "      <th>A12</th>\n",
       "      <th>A14</th>\n",
       "      <th>A15</th>\n",
       "      <th>A16</th>\n",
       "      <th>A17</th>\n",
       "      <th>A19</th>\n",
       "      <th>A20</th>\n",
       "      <th>A21</th>\n",
       "      <th>...</th>\n",
       "      <th>B11</th>\n",
       "      <th>B12</th>\n",
       "      <th>B14</th>\n",
       "      <th>B4</th>\n",
       "      <th>B5</th>\n",
       "      <th>B6</th>\n",
       "      <th>B7</th>\n",
       "      <th>B8</th>\n",
       "      <th>B9</th>\n",
       "      <th>收率</th>\n",
       "    </tr>\n",
       "  </thead>\n",
       "  <tbody>\n",
       "    <tr>\n",
       "      <th>0</th>\n",
       "      <td>100.0</td>\n",
       "      <td>16.5</td>\n",
       "      <td>102.0</td>\n",
       "      <td>17.5</td>\n",
       "      <td>103.0</td>\n",
       "      <td>18.5</td>\n",
       "      <td>104.0</td>\n",
       "      <td>300.0</td>\n",
       "      <td>0.5</td>\n",
       "      <td>50.0</td>\n",
       "      <td>...</td>\n",
       "      <td>-1.0</td>\n",
       "      <td>800.0</td>\n",
       "      <td>400.0</td>\n",
       "      <td>1.0</td>\n",
       "      <td>8.0</td>\n",
       "      <td>65.0</td>\n",
       "      <td>11.5</td>\n",
       "      <td>45.0</td>\n",
       "      <td>1.5</td>\n",
       "      <td>0.879</td>\n",
       "    </tr>\n",
       "    <tr>\n",
       "      <th>1</th>\n",
       "      <td>101.0</td>\n",
       "      <td>17.0</td>\n",
       "      <td>103.0</td>\n",
       "      <td>18.0</td>\n",
       "      <td>104.0</td>\n",
       "      <td>19.0</td>\n",
       "      <td>105.0</td>\n",
       "      <td>200.0</td>\n",
       "      <td>1.0</td>\n",
       "      <td>50.0</td>\n",
       "      <td>...</td>\n",
       "      <td>1.0</td>\n",
       "      <td>1200.0</td>\n",
       "      <td>400.0</td>\n",
       "      <td>1.0</td>\n",
       "      <td>23.0</td>\n",
       "      <td>80.0</td>\n",
       "      <td>6.0</td>\n",
       "      <td>45.0</td>\n",
       "      <td>1.5</td>\n",
       "      <td>0.902</td>\n",
       "    </tr>\n",
       "    <tr>\n",
       "      <th>2</th>\n",
       "      <td>102.0</td>\n",
       "      <td>17.0</td>\n",
       "      <td>103.0</td>\n",
       "      <td>18.0</td>\n",
       "      <td>104.0</td>\n",
       "      <td>19.0</td>\n",
       "      <td>105.0</td>\n",
       "      <td>200.0</td>\n",
       "      <td>0.5</td>\n",
       "      <td>50.0</td>\n",
       "      <td>...</td>\n",
       "      <td>1.0</td>\n",
       "      <td>1200.0</td>\n",
       "      <td>400.0</td>\n",
       "      <td>1.0</td>\n",
       "      <td>23.0</td>\n",
       "      <td>80.0</td>\n",
       "      <td>1.0</td>\n",
       "      <td>45.0</td>\n",
       "      <td>1.5</td>\n",
       "      <td>0.936</td>\n",
       "    </tr>\n",
       "    <tr>\n",
       "      <th>3</th>\n",
       "      <td>100.0</td>\n",
       "      <td>4.0</td>\n",
       "      <td>102.0</td>\n",
       "      <td>5.0</td>\n",
       "      <td>103.0</td>\n",
       "      <td>6.0</td>\n",
       "      <td>104.0</td>\n",
       "      <td>200.0</td>\n",
       "      <td>0.5</td>\n",
       "      <td>50.0</td>\n",
       "      <td>...</td>\n",
       "      <td>-1.0</td>\n",
       "      <td>800.0</td>\n",
       "      <td>400.0</td>\n",
       "      <td>1.0</td>\n",
       "      <td>15.5</td>\n",
       "      <td>65.0</td>\n",
       "      <td>18.0</td>\n",
       "      <td>45.0</td>\n",
       "      <td>1.5</td>\n",
       "      <td>0.902</td>\n",
       "    </tr>\n",
       "    <tr>\n",
       "      <th>4</th>\n",
       "      <td>101.0</td>\n",
       "      <td>1.0</td>\n",
       "      <td>103.0</td>\n",
       "      <td>2.0</td>\n",
       "      <td>104.0</td>\n",
       "      <td>3.0</td>\n",
       "      <td>105.0</td>\n",
       "      <td>200.0</td>\n",
       "      <td>1.0</td>\n",
       "      <td>50.0</td>\n",
       "      <td>...</td>\n",
       "      <td>1.0</td>\n",
       "      <td>1200.0</td>\n",
       "      <td>420.0</td>\n",
       "      <td>1.0</td>\n",
       "      <td>7.0</td>\n",
       "      <td>80.0</td>\n",
       "      <td>9.0</td>\n",
       "      <td>45.0</td>\n",
       "      <td>1.5</td>\n",
       "      <td>0.983</td>\n",
       "    </tr>\n",
       "  </tbody>\n",
       "</table>\n",
       "<p>5 rows × 33 columns</p>\n",
       "</div>"
      ],
      "text/plain": [
       "     A10   A11    A12   A14    A15   A16    A17    A19  A20   A21  ...    B11  \\\n",
       "0  100.0  16.5  102.0  17.5  103.0  18.5  104.0  300.0  0.5  50.0  ...   -1.0   \n",
       "1  101.0  17.0  103.0  18.0  104.0  19.0  105.0  200.0  1.0  50.0  ...    1.0   \n",
       "2  102.0  17.0  103.0  18.0  104.0  19.0  105.0  200.0  0.5  50.0  ...    1.0   \n",
       "3  100.0   4.0  102.0   5.0  103.0   6.0  104.0  200.0  0.5  50.0  ...   -1.0   \n",
       "4  101.0   1.0  103.0   2.0  104.0   3.0  105.0  200.0  1.0  50.0  ...    1.0   \n",
       "\n",
       "      B12    B14   B4    B5    B6    B7    B8   B9     收率  \n",
       "0   800.0  400.0  1.0   8.0  65.0  11.5  45.0  1.5  0.879  \n",
       "1  1200.0  400.0  1.0  23.0  80.0   6.0  45.0  1.5  0.902  \n",
       "2  1200.0  400.0  1.0  23.0  80.0   1.0  45.0  1.5  0.936  \n",
       "3   800.0  400.0  1.0  15.5  65.0  18.0  45.0  1.5  0.902  \n",
       "4  1200.0  420.0  1.0   7.0  80.0   9.0  45.0  1.5  0.983  \n",
       "\n",
       "[5 rows x 33 columns]"
      ]
     },
     "execution_count": 11,
     "metadata": {},
     "output_type": "execute_result"
    }
   ],
   "source": [
    "data_all.head()"
   ]
  },
  {
   "cell_type": "code",
   "execution_count": 12,
   "metadata": {},
   "outputs": [
    {
     "data": {
      "text/html": [
       "<div>\n",
       "<style scoped>\n",
       "    .dataframe tbody tr th:only-of-type {\n",
       "        vertical-align: middle;\n",
       "    }\n",
       "\n",
       "    .dataframe tbody tr th {\n",
       "        vertical-align: top;\n",
       "    }\n",
       "\n",
       "    .dataframe thead th {\n",
       "        text-align: right;\n",
       "    }\n",
       "</style>\n",
       "<table border=\"1\" class=\"dataframe\">\n",
       "  <thead>\n",
       "    <tr style=\"text-align: right;\">\n",
       "      <th></th>\n",
       "      <th>A10</th>\n",
       "      <th>A11</th>\n",
       "      <th>A12</th>\n",
       "      <th>A14</th>\n",
       "      <th>A15</th>\n",
       "      <th>A16</th>\n",
       "      <th>A17</th>\n",
       "      <th>A19</th>\n",
       "      <th>A20</th>\n",
       "      <th>A21</th>\n",
       "      <th>...</th>\n",
       "      <th>B11</th>\n",
       "      <th>B12</th>\n",
       "      <th>B14</th>\n",
       "      <th>B4</th>\n",
       "      <th>B5</th>\n",
       "      <th>B6</th>\n",
       "      <th>B7</th>\n",
       "      <th>B8</th>\n",
       "      <th>B9</th>\n",
       "      <th>收率</th>\n",
       "    </tr>\n",
       "  </thead>\n",
       "  <tbody>\n",
       "    <tr>\n",
       "      <th>1541</th>\n",
       "      <td>100.0</td>\n",
       "      <td>13.5</td>\n",
       "      <td>101.0</td>\n",
       "      <td>14.5</td>\n",
       "      <td>103.0</td>\n",
       "      <td>15.5</td>\n",
       "      <td>103.0</td>\n",
       "      <td>300.0</td>\n",
       "      <td>0.5</td>\n",
       "      <td>50.0</td>\n",
       "      <td>...</td>\n",
       "      <td>-1.0</td>\n",
       "      <td>800.0</td>\n",
       "      <td>440.0</td>\n",
       "      <td>1.5</td>\n",
       "      <td>8.0</td>\n",
       "      <td>65.0</td>\n",
       "      <td>10.5</td>\n",
       "      <td>45.0</td>\n",
       "      <td>1.5</td>\n",
       "      <td>NaN</td>\n",
       "    </tr>\n",
       "    <tr>\n",
       "      <th>1542</th>\n",
       "      <td>102.0</td>\n",
       "      <td>0.0</td>\n",
       "      <td>104.0</td>\n",
       "      <td>1.0</td>\n",
       "      <td>105.0</td>\n",
       "      <td>2.0</td>\n",
       "      <td>106.0</td>\n",
       "      <td>200.0</td>\n",
       "      <td>1.0</td>\n",
       "      <td>50.0</td>\n",
       "      <td>...</td>\n",
       "      <td>-1.0</td>\n",
       "      <td>1200.0</td>\n",
       "      <td>440.0</td>\n",
       "      <td>1.0</td>\n",
       "      <td>6.0</td>\n",
       "      <td>80.0</td>\n",
       "      <td>8.0</td>\n",
       "      <td>45.0</td>\n",
       "      <td>4.0</td>\n",
       "      <td>NaN</td>\n",
       "    </tr>\n",
       "    <tr>\n",
       "      <th>1543</th>\n",
       "      <td>100.0</td>\n",
       "      <td>10.0</td>\n",
       "      <td>103.0</td>\n",
       "      <td>11.0</td>\n",
       "      <td>102.0</td>\n",
       "      <td>12.0</td>\n",
       "      <td>102.0</td>\n",
       "      <td>300.0</td>\n",
       "      <td>0.5</td>\n",
       "      <td>50.0</td>\n",
       "      <td>...</td>\n",
       "      <td>-1.0</td>\n",
       "      <td>800.0</td>\n",
       "      <td>440.0</td>\n",
       "      <td>1.5</td>\n",
       "      <td>1.5</td>\n",
       "      <td>40.0</td>\n",
       "      <td>4.5</td>\n",
       "      <td>20.0</td>\n",
       "      <td>1.5</td>\n",
       "      <td>NaN</td>\n",
       "    </tr>\n",
       "    <tr>\n",
       "      <th>1544</th>\n",
       "      <td>100.0</td>\n",
       "      <td>4.5</td>\n",
       "      <td>102.0</td>\n",
       "      <td>5.5</td>\n",
       "      <td>102.0</td>\n",
       "      <td>6.5</td>\n",
       "      <td>102.0</td>\n",
       "      <td>300.0</td>\n",
       "      <td>0.5</td>\n",
       "      <td>50.0</td>\n",
       "      <td>...</td>\n",
       "      <td>-1.0</td>\n",
       "      <td>800.0</td>\n",
       "      <td>420.0</td>\n",
       "      <td>2.0</td>\n",
       "      <td>13.5</td>\n",
       "      <td>65.0</td>\n",
       "      <td>17.0</td>\n",
       "      <td>45.0</td>\n",
       "      <td>1.5</td>\n",
       "      <td>NaN</td>\n",
       "    </tr>\n",
       "    <tr>\n",
       "      <th>1545</th>\n",
       "      <td>100.0</td>\n",
       "      <td>0.5</td>\n",
       "      <td>101.0</td>\n",
       "      <td>1.5</td>\n",
       "      <td>103.0</td>\n",
       "      <td>2.5</td>\n",
       "      <td>105.0</td>\n",
       "      <td>300.0</td>\n",
       "      <td>1.0</td>\n",
       "      <td>50.0</td>\n",
       "      <td>...</td>\n",
       "      <td>-1.0</td>\n",
       "      <td>800.0</td>\n",
       "      <td>420.0</td>\n",
       "      <td>1.5</td>\n",
       "      <td>11.0</td>\n",
       "      <td>65.0</td>\n",
       "      <td>14.0</td>\n",
       "      <td>50.0</td>\n",
       "      <td>1.5</td>\n",
       "      <td>NaN</td>\n",
       "    </tr>\n",
       "  </tbody>\n",
       "</table>\n",
       "<p>5 rows × 33 columns</p>\n",
       "</div>"
      ],
      "text/plain": [
       "        A10   A11    A12   A14    A15   A16    A17    A19  A20   A21 ...  B11  \\\n",
       "1541  100.0  13.5  101.0  14.5  103.0  15.5  103.0  300.0  0.5  50.0 ... -1.0   \n",
       "1542  102.0   0.0  104.0   1.0  105.0   2.0  106.0  200.0  1.0  50.0 ... -1.0   \n",
       "1543  100.0  10.0  103.0  11.0  102.0  12.0  102.0  300.0  0.5  50.0 ... -1.0   \n",
       "1544  100.0   4.5  102.0   5.5  102.0   6.5  102.0  300.0  0.5  50.0 ... -1.0   \n",
       "1545  100.0   0.5  101.0   1.5  103.0   2.5  105.0  300.0  1.0  50.0 ... -1.0   \n",
       "\n",
       "         B12    B14   B4    B5    B6    B7    B8   B9  收率  \n",
       "1541   800.0  440.0  1.5   8.0  65.0  10.5  45.0  1.5 NaN  \n",
       "1542  1200.0  440.0  1.0   6.0  80.0   8.0  45.0  4.0 NaN  \n",
       "1543   800.0  440.0  1.5   1.5  40.0   4.5  20.0  1.5 NaN  \n",
       "1544   800.0  420.0  2.0  13.5  65.0  17.0  45.0  1.5 NaN  \n",
       "1545   800.0  420.0  1.5  11.0  65.0  14.0  50.0  1.5 NaN  \n",
       "\n",
       "[5 rows x 33 columns]"
      ]
     },
     "execution_count": 12,
     "metadata": {},
     "output_type": "execute_result"
    }
   ],
   "source": [
    "data_all.tail()"
   ]
  },
  {
   "cell_type": "code",
   "execution_count": 15,
   "metadata": {},
   "outputs": [
    {
     "data": {
      "image/png": "[encoded data removed]",
      "text/plain": [
       "<Figure size 432x288 with 1 Axes>"
      ]
     },
     "metadata": {
      "needs_background": "light"
     },
     "output_type": "display_data"
    },
    {
     "data": {
      "image/png": "[encoded data removed]",
      "text/plain": [
       "<Figure size 432x288 with 1 Axes>"
      ]
     },
     "metadata": {
      "needs_background": "light"
     },
     "output_type": "display_data"
    },
    {
     "data": {
      "image/png": "[encoded data removed]",
      "text/plain": [
       "<Figure size 432x288 with 1 Axes>"
      ]
     },
     "metadata": {
      "needs_background": "light"
     },
     "output_type": "display_data"
    },
    {
     "data": {
      "image/png": "[encoded data removed]",
      "text/plain": [
       "<Figure size 432x288 with 1 Axes>"
      ]
     },
     "metadata": {
      "needs_background": "light"
     },
     "output_type": "display_data"
    },
    {
     "data": {
      "image/png": "[encoded data removed]",
      "text/plain": [
       "<Figure size 432x288 with 1 Axes>"
      ]
     },
     "metadata": {
      "needs_background": "light"
     },
     "output_type": "display_data"
    },
    {
     "data": {
      "image/png": "[encoded data removed]",
      "text/plain": [
       "<Figure size 432x288 with 1 Axes>"
      ]
     },
     "metadata": {
      "needs_background": "light"
     },
     "output_type": "display_data"
    },
    {
     "data": {
      "image/png": "[encoded data removed]",
      "text/plain": [
       "<Figure size 432x288 with 1 Axes>"
      ]
     },
     "metadata": {
      "needs_background": "light"
     },
     "output_type": "display_data"
    },
    {
     "data": {
      "image/png": "[encoded data removed]",
      "text/plain": [
       "<Figure size 432x288 with 1 Axes>"
      ]
     },
     "metadata": {
      "needs_background": "light"
     },
     "output_type": "display_data"
    },
    {
     "data": {
      "image/png": "[encoded data removed]",
      "text/plain": [
       "<Figure size 432x288 with 1 Axes>"
      ]
     },
     "metadata": {
      "needs_background": "light"
     },
     "output_type": "display_data"
    },
    {
     "data": {
      "image/png": "[encoded data removed]",
      "text/plain": [
       "<Figure size 432x288 with 1 Axes>"
      ]
     },
     "metadata": {
      "needs_background": "light"
     },
     "output_type": "display_data"
    },
    {
     "data": {
      "image/png": "[encoded data removed]",
      "text/plain": [
       "<Figure size 432x288 with 1 Axes>"
      ]
     },
     "metadata": {
      "needs_background": "light"
     },
     "output_type": "display_data"
    },
    {
     "data": {
      "image/png": "[encoded data removed]",
      "text/plain": [
       "<Figure size 432x288 with 1 Axes>"
      ]
     },
     "metadata": {
      "needs_background": "light"
     },
     "output_type": "display_data"
    },
    {
     "data": {
      "image/png": "[encoded data removed]",
      "text/plain": [
       "<Figure size 432x288 with 1 Axes>"
      ]
     },
     "metadata": {
      "needs_background": "light"
     },
     "output_type": "display_data"
    },
    {
     "data": {
      "image/png": "[encoded data removed]",
      "text/plain": [
       "<Figure size 432x288 with 1 Axes>"
      ]
     },
     "metadata": {
      "needs_background": "light"
     },
     "output_type": "display_data"
    },
    {
     "data": {
      "image/png": "[encoded data removed]",
      "text/plain": [
       "<Figure size 432x288 with 1 Axes>"
      ]
     },
     "metadata": {
      "needs_background": "light"
     },
     "output_type": "display_data"
    },
    {
     "data": {
      "image/png": "[encoded data removed]",
      "text/plain": [
       "<Figure size 432x288 with 1 Axes>"
      ]
     },
     "metadata": {
      "needs_background": "light"
     },
     "output_type": "display_data"
    },
    {
     "data": {
      "image/png": "[encoded data removed]",
      "text/plain": [
       "<Figure size 432x288 with 1 Axes>"
      ]
     },
     "metadata": {
      "needs_background": "light"
     },
     "output_type": "display_data"
    },
    {
     "data": {
      "image/png": "[encoded data removed]",
      "text/plain": [
       "<Figure size 432x288 with 1 Axes>"
      ]
     },
     "metadata": {
      "needs_background": "light"
     },
     "output_type": "display_data"
    },
    {
     "data": {
      "image/png": "[encoded data removed]",
      "text/plain": [
       "<Figure size 432x288 with 1 Axes>"
      ]
     },
     "metadata": {
      "needs_background": "light"
     },
     "output_type": "display_data"
    },
    {
     "data": {
      "image/png": "[encoded data removed]",
      "text/plain": [
       "<Figure size 432x288 with 1 Axes>"
      ]
     },
     "metadata": {
      "needs_background": "light"
     },
     "output_type": "display_data"
    },
    {
     "data": {
      "image/png": "[encoded data removed]",
      "text/plain": [
       "<Figure size 432x288 with 1 Axes>"
      ]
     },
     "metadata": {
      "needs_background": "light"
     },
     "output_type": "display_data"
    },
    {
     "data": {
      "image/png": "[encoded data removed]",
      "text/plain": [
       "<Figure size 432x288 with 1 Axes>"
      ]
     },
     "metadata": {
      "needs_background": "light"
     },
     "output_type": "display_data"
    },
    {
     "data": {
      "image/png": "[encoded data removed]",
      "text/plain": [
       "<Figure size 432x288 with 1 Axes>"
      ]
     },
     "metadata": {
      "needs_background": "light"
     },
     "output_type": "display_data"
    },
    {
     "data": {
      "image/png": "[encoded data removed]",
      "text/plain": [
       "<Figure size 432x288 with 1 Axes>"
      ]
     },
     "metadata": {
      "needs_background": "light"
     },
     "output_type": "display_data"
    },
    {
     "data": {
      "image/png": "[encoded data removed]",
      "text/plain": [
       "<Figure size 432x288 with 1 Axes>"
      ]
     },
     "metadata": {
      "needs_background": "light"
     },
     "output_type": "display_data"
    },
    {
     "data": {
      "image/png": "[encoded data removed]",
      "text/plain": [
       "<Figure size 432x288 with 1 Axes>"
      ]
     },
     "metadata": {
      "needs_background": "light"
     },
     "output_type": "display_data"
    },
    {
     "data": {
      "image/png": "[encoded data removed]",
      "text/plain": [
       "<Figure size 432x288 with 1 Axes>"
      ]
     },
     "metadata": {
      "needs_background": "light"
     },
     "output_type": "display_data"
    },
    {
     "data": {
      "image/png": "[encoded data removed]",
      "text/plain": [
       "<Figure size 432x288 with 1 Axes>"
      ]
     },
     "metadata": {
      "needs_background": "light"
     },
     "output_type": "display_data"
    },
    {
     "data": {
      "image/png": "[encoded data removed]",
      "text/plain": [
       "<Figure size 432x288 with 1 Axes>"
      ]
     },
     "metadata": {
      "needs_background": "light"
     },
     "output_type": "display_data"
    },
    {
     "data": {
      "image/png": "[encoded data removed]",
      "text/plain": [
       "<Figure size 432x288 with 1 Axes>"
      ]
     },
     "metadata": {
      "needs_background": "light"
     },
     "output_type": "display_data"
    },
    {
     "data": {
      "image/png": "[encoded data removed]",
      "text/plain": [
       "<Figure size 432x288 with 1 Axes>"
      ]
     },
     "metadata": {
      "needs_background": "light"
     },
     "output_type": "display_data"
    }
   ],
   "source": [
    "for column in data_all.columns[0:-2]:\n",
    "    g = sns.kdeplot(data_all[column][:1396], color=\"Red\", shade = True)\n",
    "    g = sns.kdeplot(data_all[column][1396:], ax =g, color=\"Blue\", shade= True)\n",
    "    g.set_xlabel(column)\n",
    "    g.set_ylabel(\"Frequency\")\n",
    "    g = g.legend([\"train\",\"test\"])\n",
    "    plt.show()"
   ]
  },
  {
   "cell_type": "code",
   "execution_count": 29,
   "metadata": {},
   "outputs": [],
   "source": [
    "testb = pd.read_csv('../data/jinnan_round1_testA_20181227.csv',encoding = 'gb18030')"
   ]
  },
  {
   "cell_type": "code",
   "execution_count": 30,
   "metadata": {},
   "outputs": [],
   "source": [
    "sub_df = testb[['样本id']]"
   ]
  },
  {
   "cell_type": "code",
   "execution_count": 31,
   "metadata": {},
   "outputs": [
    {
     "data": {
      "text/html": [
       "<div>\n",
       "<style scoped>\n",
       "    .dataframe tbody tr th:only-of-type {\n",
       "        vertical-align: middle;\n",
       "    }\n",
       "\n",
       "    .dataframe tbody tr th {\n",
       "        vertical-align: top;\n",
       "    }\n",
       "\n",
       "    .dataframe thead th {\n",
       "        text-align: right;\n",
       "    }\n",
       "</style>\n",
       "<table border=\"1\" class=\"dataframe\">\n",
       "  <thead>\n",
       "    <tr style=\"text-align: right;\">\n",
       "      <th></th>\n",
       "      <th>样本id</th>\n",
       "    </tr>\n",
       "  </thead>\n",
       "  <tbody>\n",
       "    <tr>\n",
       "      <th>0</th>\n",
       "      <td>sample_1656</td>\n",
       "    </tr>\n",
       "    <tr>\n",
       "      <th>1</th>\n",
       "      <td>sample_1548</td>\n",
       "    </tr>\n",
       "    <tr>\n",
       "      <th>2</th>\n",
       "      <td>sample_769</td>\n",
       "    </tr>\n",
       "    <tr>\n",
       "      <th>3</th>\n",
       "      <td>sample_1881</td>\n",
       "    </tr>\n",
       "    <tr>\n",
       "      <th>4</th>\n",
       "      <td>sample_1807</td>\n",
       "    </tr>\n",
       "    <tr>\n",
       "      <th>5</th>\n",
       "      <td>sample_145</td>\n",
       "    </tr>\n",
       "    <tr>\n",
       "      <th>6</th>\n",
       "      <td>sample_1212</td>\n",
       "    </tr>\n",
       "    <tr>\n",
       "      <th>7</th>\n",
       "      <td>sample_944</td>\n",
       "    </tr>\n",
       "    <tr>\n",
       "      <th>8</th>\n",
       "      <td>sample_829</td>\n",
       "    </tr>\n",
       "    <tr>\n",
       "      <th>9</th>\n",
       "      <td>sample_616</td>\n",
       "    </tr>\n",
       "    <tr>\n",
       "      <th>10</th>\n",
       "      <td>sample_1690</td>\n",
       "    </tr>\n",
       "    <tr>\n",
       "      <th>11</th>\n",
       "      <td>sample_114</td>\n",
       "    </tr>\n",
       "    <tr>\n",
       "      <th>12</th>\n",
       "      <td>sample_185</td>\n",
       "    </tr>\n",
       "    <tr>\n",
       "      <th>13</th>\n",
       "      <td>sample_1141</td>\n",
       "    </tr>\n",
       "    <tr>\n",
       "      <th>14</th>\n",
       "      <td>sample_1460</td>\n",
       "    </tr>\n",
       "    <tr>\n",
       "      <th>15</th>\n",
       "      <td>sample_1835</td>\n",
       "    </tr>\n",
       "    <tr>\n",
       "      <th>16</th>\n",
       "      <td>sample_1539</td>\n",
       "    </tr>\n",
       "    <tr>\n",
       "      <th>17</th>\n",
       "      <td>sample_598</td>\n",
       "    </tr>\n",
       "    <tr>\n",
       "      <th>18</th>\n",
       "      <td>sample_1800</td>\n",
       "    </tr>\n",
       "    <tr>\n",
       "      <th>19</th>\n",
       "      <td>sample_394</td>\n",
       "    </tr>\n",
       "    <tr>\n",
       "      <th>20</th>\n",
       "      <td>sample_1146</td>\n",
       "    </tr>\n",
       "    <tr>\n",
       "      <th>21</th>\n",
       "      <td>sample_149</td>\n",
       "    </tr>\n",
       "    <tr>\n",
       "      <th>22</th>\n",
       "      <td>sample_1750</td>\n",
       "    </tr>\n",
       "    <tr>\n",
       "      <th>23</th>\n",
       "      <td>sample_1977</td>\n",
       "    </tr>\n",
       "    <tr>\n",
       "      <th>24</th>\n",
       "      <td>sample_1830</td>\n",
       "    </tr>\n",
       "    <tr>\n",
       "      <th>25</th>\n",
       "      <td>sample_818</td>\n",
       "    </tr>\n",
       "    <tr>\n",
       "      <th>26</th>\n",
       "      <td>sample_881</td>\n",
       "    </tr>\n",
       "    <tr>\n",
       "      <th>27</th>\n",
       "      <td>sample_77</td>\n",
       "    </tr>\n",
       "    <tr>\n",
       "      <th>28</th>\n",
       "      <td>sample_1240</td>\n",
       "    </tr>\n",
       "    <tr>\n",
       "      <th>29</th>\n",
       "      <td>sample_309</td>\n",
       "    </tr>\n",
       "    <tr>\n",
       "      <th>...</th>\n",
       "      <td>...</td>\n",
       "    </tr>\n",
       "    <tr>\n",
       "      <th>120</th>\n",
       "      <td>sample_49</td>\n",
       "    </tr>\n",
       "    <tr>\n",
       "      <th>121</th>\n",
       "      <td>sample_474</td>\n",
       "    </tr>\n",
       "    <tr>\n",
       "      <th>122</th>\n",
       "      <td>sample_1716</td>\n",
       "    </tr>\n",
       "    <tr>\n",
       "      <th>123</th>\n",
       "      <td>sample_1169</td>\n",
       "    </tr>\n",
       "    <tr>\n",
       "      <th>124</th>\n",
       "      <td>sample_1925</td>\n",
       "    </tr>\n",
       "    <tr>\n",
       "      <th>125</th>\n",
       "      <td>sample_667</td>\n",
       "    </tr>\n",
       "    <tr>\n",
       "      <th>126</th>\n",
       "      <td>sample_176</td>\n",
       "    </tr>\n",
       "    <tr>\n",
       "      <th>127</th>\n",
       "      <td>sample_1908</td>\n",
       "    </tr>\n",
       "    <tr>\n",
       "      <th>128</th>\n",
       "      <td>sample_160</td>\n",
       "    </tr>\n",
       "    <tr>\n",
       "      <th>129</th>\n",
       "      <td>sample_35</td>\n",
       "    </tr>\n",
       "    <tr>\n",
       "      <th>130</th>\n",
       "      <td>sample_1403</td>\n",
       "    </tr>\n",
       "    <tr>\n",
       "      <th>131</th>\n",
       "      <td>sample_1806</td>\n",
       "    </tr>\n",
       "    <tr>\n",
       "      <th>132</th>\n",
       "      <td>sample_241</td>\n",
       "    </tr>\n",
       "    <tr>\n",
       "      <th>133</th>\n",
       "      <td>sample_1059</td>\n",
       "    </tr>\n",
       "    <tr>\n",
       "      <th>134</th>\n",
       "      <td>sample_746</td>\n",
       "    </tr>\n",
       "    <tr>\n",
       "      <th>135</th>\n",
       "      <td>sample_513</td>\n",
       "    </tr>\n",
       "    <tr>\n",
       "      <th>136</th>\n",
       "      <td>sample_1088</td>\n",
       "    </tr>\n",
       "    <tr>\n",
       "      <th>137</th>\n",
       "      <td>sample_1370</td>\n",
       "    </tr>\n",
       "    <tr>\n",
       "      <th>138</th>\n",
       "      <td>sample_523</td>\n",
       "    </tr>\n",
       "    <tr>\n",
       "      <th>139</th>\n",
       "      <td>sample_319</td>\n",
       "    </tr>\n",
       "    <tr>\n",
       "      <th>140</th>\n",
       "      <td>sample_1923</td>\n",
       "    </tr>\n",
       "    <tr>\n",
       "      <th>141</th>\n",
       "      <td>sample_1296</td>\n",
       "    </tr>\n",
       "    <tr>\n",
       "      <th>142</th>\n",
       "      <td>sample_1152</td>\n",
       "    </tr>\n",
       "    <tr>\n",
       "      <th>143</th>\n",
       "      <td>sample_982</td>\n",
       "    </tr>\n",
       "    <tr>\n",
       "      <th>144</th>\n",
       "      <td>sample_304</td>\n",
       "    </tr>\n",
       "    <tr>\n",
       "      <th>145</th>\n",
       "      <td>sample_502</td>\n",
       "    </tr>\n",
       "    <tr>\n",
       "      <th>146</th>\n",
       "      <td>sample_1951</td>\n",
       "    </tr>\n",
       "    <tr>\n",
       "      <th>147</th>\n",
       "      <td>sample_386</td>\n",
       "    </tr>\n",
       "    <tr>\n",
       "      <th>148</th>\n",
       "      <td>sample_362</td>\n",
       "    </tr>\n",
       "    <tr>\n",
       "      <th>149</th>\n",
       "      <td>sample_522</td>\n",
       "    </tr>\n",
       "  </tbody>\n",
       "</table>\n",
       "<p>150 rows × 1 columns</p>\n",
       "</div>"
      ],
      "text/plain": [
       "            样本id\n",
       "0    sample_1656\n",
       "1    sample_1548\n",
       "2     sample_769\n",
       "3    sample_1881\n",
       "4    sample_1807\n",
       "5     sample_145\n",
       "6    sample_1212\n",
       "7     sample_944\n",
       "8     sample_829\n",
       "9     sample_616\n",
       "10   sample_1690\n",
       "11    sample_114\n",
       "12    sample_185\n",
       "13   sample_1141\n",
       "14   sample_1460\n",
       "15   sample_1835\n",
       "16   sample_1539\n",
       "17    sample_598\n",
       "18   sample_1800\n",
       "19    sample_394\n",
       "20   sample_1146\n",
       "21    sample_149\n",
       "22   sample_1750\n",
       "23   sample_1977\n",
       "24   sample_1830\n",
       "25    sample_818\n",
       "26    sample_881\n",
       "27     sample_77\n",
       "28   sample_1240\n",
       "29    sample_309\n",
       "..           ...\n",
       "120    sample_49\n",
       "121   sample_474\n",
       "122  sample_1716\n",
       "123  sample_1169\n",
       "124  sample_1925\n",
       "125   sample_667\n",
       "126   sample_176\n",
       "127  sample_1908\n",
       "128   sample_160\n",
       "129    sample_35\n",
       "130  sample_1403\n",
       "131  sample_1806\n",
       "132   sample_241\n",
       "133  sample_1059\n",
       "134   sample_746\n",
       "135   sample_513\n",
       "136  sample_1088\n",
       "137  sample_1370\n",
       "138   sample_523\n",
       "139   sample_319\n",
       "140  sample_1923\n",
       "141  sample_1296\n",
       "142  sample_1152\n",
       "143   sample_982\n",
       "144   sample_304\n",
       "145   sample_502\n",
       "146  sample_1951\n",
       "147   sample_386\n",
       "148   sample_362\n",
       "149   sample_522\n",
       "\n",
       "[150 rows x 1 columns]"
      ]
     },
     "execution_count": 31,
     "metadata": {},
     "output_type": "execute_result"
    }
   ],
   "source": [
    "sub_df"
   ]
  },
  {
   "cell_type": "code",
   "execution_count": 32,
   "metadata": {},
   "outputs": [],
   "source": [
    "prediction = np.zeros(len(testb))"
   ]
  },
  {
   "cell_type": "code",
   "execution_count": 33,
   "metadata": {},
   "outputs": [],
   "source": [
    "sub_df[1] = prediction"
   ]
  },
  {
   "cell_type": "code",
   "execution_count": 34,
   "metadata": {},
   "outputs": [
    {
     "data": {
      "text/html": [
       "<div>\n",
       "<style scoped>\n",
       "    .dataframe tbody tr th:only-of-type {\n",
       "        vertical-align: middle;\n",
       "    }\n",
       "\n",
       "    .dataframe tbody tr th {\n",
       "        vertical-align: top;\n",
       "    }\n",
       "\n",
       "    .dataframe thead th {\n",
       "        text-align: right;\n",
       "    }\n",
       "</style>\n",
       "<table border=\"1\" class=\"dataframe\">\n",
       "  <thead>\n",
       "    <tr style=\"text-align: right;\">\n",
       "      <th></th>\n",
       "      <th>样本id</th>\n",
       "      <th>1</th>\n",
       "    </tr>\n",
       "  </thead>\n",
       "  <tbody>\n",
       "    <tr>\n",
       "      <th>0</th>\n",
       "      <td>sample_1656</td>\n",
       "      <td>0.0</td>\n",
       "    </tr>\n",
       "    <tr>\n",
       "      <th>1</th>\n",
       "      <td>sample_1548</td>\n",
       "      <td>0.0</td>\n",
       "    </tr>\n",
       "    <tr>\n",
       "      <th>2</th>\n",
       "      <td>sample_769</td>\n",
       "      <td>0.0</td>\n",
       "    </tr>\n",
       "    <tr>\n",
       "      <th>3</th>\n",
       "      <td>sample_1881</td>\n",
       "      <td>0.0</td>\n",
       "    </tr>\n",
       "    <tr>\n",
       "      <th>4</th>\n",
       "      <td>sample_1807</td>\n",
       "      <td>0.0</td>\n",
       "    </tr>\n",
       "    <tr>\n",
       "      <th>5</th>\n",
       "      <td>sample_145</td>\n",
       "      <td>0.0</td>\n",
       "    </tr>\n",
       "    <tr>\n",
       "      <th>6</th>\n",
       "      <td>sample_1212</td>\n",
       "      <td>0.0</td>\n",
       "    </tr>\n",
       "    <tr>\n",
       "      <th>7</th>\n",
       "      <td>sample_944</td>\n",
       "      <td>0.0</td>\n",
       "    </tr>\n",
       "    <tr>\n",
       "      <th>8</th>\n",
       "      <td>sample_829</td>\n",
       "      <td>0.0</td>\n",
       "    </tr>\n",
       "    <tr>\n",
       "      <th>9</th>\n",
       "      <td>sample_616</td>\n",
       "      <td>0.0</td>\n",
       "    </tr>\n",
       "    <tr>\n",
       "      <th>10</th>\n",
       "      <td>sample_1690</td>\n",
       "      <td>0.0</td>\n",
       "    </tr>\n",
       "    <tr>\n",
       "      <th>11</th>\n",
       "      <td>sample_114</td>\n",
       "      <td>0.0</td>\n",
       "    </tr>\n",
       "    <tr>\n",
       "      <th>12</th>\n",
       "      <td>sample_185</td>\n",
       "      <td>0.0</td>\n",
       "    </tr>\n",
       "    <tr>\n",
       "      <th>13</th>\n",
       "      <td>sample_1141</td>\n",
       "      <td>0.0</td>\n",
       "    </tr>\n",
       "    <tr>\n",
       "      <th>14</th>\n",
       "      <td>sample_1460</td>\n",
       "      <td>0.0</td>\n",
       "    </tr>\n",
       "    <tr>\n",
       "      <th>15</th>\n",
       "      <td>sample_1835</td>\n",
       "      <td>0.0</td>\n",
       "    </tr>\n",
       "    <tr>\n",
       "      <th>16</th>\n",
       "      <td>sample_1539</td>\n",
       "      <td>0.0</td>\n",
       "    </tr>\n",
       "    <tr>\n",
       "      <th>17</th>\n",
       "      <td>sample_598</td>\n",
       "      <td>0.0</td>\n",
       "    </tr>\n",
       "    <tr>\n",
       "      <th>18</th>\n",
       "      <td>sample_1800</td>\n",
       "      <td>0.0</td>\n",
       "    </tr>\n",
       "    <tr>\n",
       "      <th>19</th>\n",
       "      <td>sample_394</td>\n",
       "      <td>0.0</td>\n",
       "    </tr>\n",
       "    <tr>\n",
       "      <th>20</th>\n",
       "      <td>sample_1146</td>\n",
       "      <td>0.0</td>\n",
       "    </tr>\n",
       "    <tr>\n",
       "      <th>21</th>\n",
       "      <td>sample_149</td>\n",
       "      <td>0.0</td>\n",
       "    </tr>\n",
       "    <tr>\n",
       "      <th>22</th>\n",
       "      <td>sample_1750</td>\n",
       "      <td>0.0</td>\n",
       "    </tr>\n",
       "    <tr>\n",
       "      <th>23</th>\n",
       "      <td>sample_1977</td>\n",
       "      <td>0.0</td>\n",
       "    </tr>\n",
       "    <tr>\n",
       "      <th>24</th>\n",
       "      <td>sample_1830</td>\n",
       "      <td>0.0</td>\n",
       "    </tr>\n",
       "    <tr>\n",
       "      <th>25</th>\n",
       "      <td>sample_818</td>\n",
       "      <td>0.0</td>\n",
       "    </tr>\n",
       "    <tr>\n",
       "      <th>26</th>\n",
       "      <td>sample_881</td>\n",
       "      <td>0.0</td>\n",
       "    </tr>\n",
       "    <tr>\n",
       "      <th>27</th>\n",
       "      <td>sample_77</td>\n",
       "      <td>0.0</td>\n",
       "    </tr>\n",
       "    <tr>\n",
       "      <th>28</th>\n",
       "      <td>sample_1240</td>\n",
       "      <td>0.0</td>\n",
       "    </tr>\n",
       "    <tr>\n",
       "      <th>29</th>\n",
       "      <td>sample_309</td>\n",
       "      <td>0.0</td>\n",
       "    </tr>\n",
       "    <tr>\n",
       "      <th>...</th>\n",
       "      <td>...</td>\n",
       "      <td>...</td>\n",
       "    </tr>\n",
       "    <tr>\n",
       "      <th>120</th>\n",
       "      <td>sample_49</td>\n",
       "      <td>0.0</td>\n",
       "    </tr>\n",
       "    <tr>\n",
       "      <th>121</th>\n",
       "      <td>sample_474</td>\n",
       "      <td>0.0</td>\n",
       "    </tr>\n",
       "    <tr>\n",
       "      <th>122</th>\n",
       "      <td>sample_1716</td>\n",
       "      <td>0.0</td>\n",
       "    </tr>\n",
       "    <tr>\n",
       "      <th>123</th>\n",
       "      <td>sample_1169</td>\n",
       "      <td>0.0</td>\n",
       "    </tr>\n",
       "    <tr>\n",
       "      <th>124</th>\n",
       "      <td>sample_1925</td>\n",
       "      <td>0.0</td>\n",
       "    </tr>\n",
       "    <tr>\n",
       "      <th>125</th>\n",
       "      <td>sample_667</td>\n",
       "      <td>0.0</td>\n",
       "    </tr>\n",
       "    <tr>\n",
       "      <th>126</th>\n",
       "      <td>sample_176</td>\n",
       "      <td>0.0</td>\n",
       "    </tr>\n",
       "    <tr>\n",
       "      <th>127</th>\n",
       "      <td>sample_1908</td>\n",
       "      <td>0.0</td>\n",
       "    </tr>\n",
       "    <tr>\n",
       "      <th>128</th>\n",
       "      <td>sample_160</td>\n",
       "      <td>0.0</td>\n",
       "    </tr>\n",
       "    <tr>\n",
       "      <th>129</th>\n",
       "      <td>sample_35</td>\n",
       "      <td>0.0</td>\n",
       "    </tr>\n",
       "    <tr>\n",
       "      <th>130</th>\n",
       "      <td>sample_1403</td>\n",
       "      <td>0.0</td>\n",
       "    </tr>\n",
       "    <tr>\n",
       "      <th>131</th>\n",
       "      <td>sample_1806</td>\n",
       "      <td>0.0</td>\n",
       "    </tr>\n",
       "    <tr>\n",
       "      <th>132</th>\n",
       "      <td>sample_241</td>\n",
       "      <td>0.0</td>\n",
       "    </tr>\n",
       "    <tr>\n",
       "      <th>133</th>\n",
       "      <td>sample_1059</td>\n",
       "      <td>0.0</td>\n",
       "    </tr>\n",
       "    <tr>\n",
       "      <th>134</th>\n",
       "      <td>sample_746</td>\n",
       "      <td>0.0</td>\n",
       "    </tr>\n",
       "    <tr>\n",
       "      <th>135</th>\n",
       "      <td>sample_513</td>\n",
       "      <td>0.0</td>\n",
       "    </tr>\n",
       "    <tr>\n",
       "      <th>136</th>\n",
       "      <td>sample_1088</td>\n",
       "      <td>0.0</td>\n",
       "    </tr>\n",
       "    <tr>\n",
       "      <th>137</th>\n",
       "      <td>sample_1370</td>\n",
       "      <td>0.0</td>\n",
       "    </tr>\n",
       "    <tr>\n",
       "      <th>138</th>\n",
       "      <td>sample_523</td>\n",
       "      <td>0.0</td>\n",
       "    </tr>\n",
       "    <tr>\n",
       "      <th>139</th>\n",
       "      <td>sample_319</td>\n",
       "      <td>0.0</td>\n",
       "    </tr>\n",
       "    <tr>\n",
       "      <th>140</th>\n",
       "      <td>sample_1923</td>\n",
       "      <td>0.0</td>\n",
       "    </tr>\n",
       "    <tr>\n",
       "      <th>141</th>\n",
       "      <td>sample_1296</td>\n",
       "      <td>0.0</td>\n",
       "    </tr>\n",
       "    <tr>\n",
       "      <th>142</th>\n",
       "      <td>sample_1152</td>\n",
       "      <td>0.0</td>\n",
       "    </tr>\n",
       "    <tr>\n",
       "      <th>143</th>\n",
       "      <td>sample_982</td>\n",
       "      <td>0.0</td>\n",
       "    </tr>\n",
       "    <tr>\n",
       "      <th>144</th>\n",
       "      <td>sample_304</td>\n",
       "      <td>0.0</td>\n",
       "    </tr>\n",
       "    <tr>\n",
       "      <th>145</th>\n",
       "      <td>sample_502</td>\n",
       "      <td>0.0</td>\n",
       "    </tr>\n",
       "    <tr>\n",
       "      <th>146</th>\n",
       "      <td>sample_1951</td>\n",
       "      <td>0.0</td>\n",
       "    </tr>\n",
       "    <tr>\n",
       "      <th>147</th>\n",
       "      <td>sample_386</td>\n",
       "      <td>0.0</td>\n",
       "    </tr>\n",
       "    <tr>\n",
       "      <th>148</th>\n",
       "      <td>sample_362</td>\n",
       "      <td>0.0</td>\n",
       "    </tr>\n",
       "    <tr>\n",
       "      <th>149</th>\n",
       "      <td>sample_522</td>\n",
       "      <td>0.0</td>\n",
       "    </tr>\n",
       "  </tbody>\n",
       "</table>\n",
       "<p>150 rows × 2 columns</p>\n",
       "</div>"
      ],
      "text/plain": [
       "            样本id    1\n",
       "0    sample_1656  0.0\n",
       "1    sample_1548  0.0\n",
       "2     sample_769  0.0\n",
       "3    sample_1881  0.0\n",
       "4    sample_1807  0.0\n",
       "5     sample_145  0.0\n",
       "6    sample_1212  0.0\n",
       "7     sample_944  0.0\n",
       "8     sample_829  0.0\n",
       "9     sample_616  0.0\n",
       "10   sample_1690  0.0\n",
       "11    sample_114  0.0\n",
       "12    sample_185  0.0\n",
       "13   sample_1141  0.0\n",
       "14   sample_1460  0.0\n",
       "15   sample_1835  0.0\n",
       "16   sample_1539  0.0\n",
       "17    sample_598  0.0\n",
       "18   sample_1800  0.0\n",
       "19    sample_394  0.0\n",
       "20   sample_1146  0.0\n",
       "21    sample_149  0.0\n",
       "22   sample_1750  0.0\n",
       "23   sample_1977  0.0\n",
       "24   sample_1830  0.0\n",
       "25    sample_818  0.0\n",
       "26    sample_881  0.0\n",
       "27     sample_77  0.0\n",
       "28   sample_1240  0.0\n",
       "29    sample_309  0.0\n",
       "..           ...  ...\n",
       "120    sample_49  0.0\n",
       "121   sample_474  0.0\n",
       "122  sample_1716  0.0\n",
       "123  sample_1169  0.0\n",
       "124  sample_1925  0.0\n",
       "125   sample_667  0.0\n",
       "126   sample_176  0.0\n",
       "127  sample_1908  0.0\n",
       "128   sample_160  0.0\n",
       "129    sample_35  0.0\n",
       "130  sample_1403  0.0\n",
       "131  sample_1806  0.0\n",
       "132   sample_241  0.0\n",
       "133  sample_1059  0.0\n",
       "134   sample_746  0.0\n",
       "135   sample_513  0.0\n",
       "136  sample_1088  0.0\n",
       "137  sample_1370  0.0\n",
       "138   sample_523  0.0\n",
       "139   sample_319  0.0\n",
       "140  sample_1923  0.0\n",
       "141  sample_1296  0.0\n",
       "142  sample_1152  0.0\n",
       "143   sample_982  0.0\n",
       "144   sample_304  0.0\n",
       "145   sample_502  0.0\n",
       "146  sample_1951  0.0\n",
       "147   sample_386  0.0\n",
       "148   sample_362  0.0\n",
       "149   sample_522  0.0\n",
       "\n",
       "[150 rows x 2 columns]"
      ]
     },
     "execution_count": 34,
     "metadata": {},
     "output_type": "execute_result"
    }
   ],
   "source": [
    "sub_df"
   ]
  },
  {
   "cell_type": "code",
   "execution_count": 35,
   "metadata": {},
   "outputs": [],
   "source": [
    "sub_df.to_csv('../data/result.csv',encoding='utf-8',header=None,index=False)"
   ]
  },
  {
   "cell_type": "code",
   "execution_count": null,
   "metadata": {},
   "outputs": [],
   "source": []
  }
 ],
 "metadata": {
  "kernelspec": {
   "display_name": "Python 3",
   "language": "python",
   "name": "python3"
  },
  "language_info": {
   "codemirror_mode": {
    "name": "ipython",
    "version": 3
   },
   "file_extension": ".py",
   "mimetype": "text/x-python",
   "name": "python",
   "nbconvert_exporter": "python",
   "pygments_lexer": "ipython3",
   "version": "3.6.6"
  }
 },
 "nbformat": 4,
 "nbformat_minor": 2
}
